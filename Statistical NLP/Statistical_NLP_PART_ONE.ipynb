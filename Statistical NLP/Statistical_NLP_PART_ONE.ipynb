{
  "nbformat": 4,
  "nbformat_minor": 0,
  "metadata": {
    "colab": {
      "name": "part1.ipynb",
      "provenance": [],
      "collapsed_sections": []
    },
    "kernelspec": {
      "display_name": "Python 3",
      "name": "python3"
    }
  },
  "cells": [
    {
      "cell_type": "code",
      "metadata": {
        "colab": {
          "base_uri": "https://localhost:8080/"
        },
        "id": "q8ZPliNLs553",
        "outputId": "edfe2372-bc66-465a-f6b0-74b43b4817c1"
      },
      "source": [
        "#Connect Google drive to colab\r\n",
        "from google.colab import drive\r\n",
        "drive.mount('/content/gdrive')"
      ],
      "execution_count": 1,
      "outputs": [
        {
          "output_type": "stream",
          "text": [
            "Drive already mounted at /content/gdrive; to attempt to forcibly remount, call drive.mount(\"/content/gdrive\", force_remount=True).\n"
          ],
          "name": "stdout"
        }
      ]
    },
    {
      "cell_type": "code",
      "metadata": {
        "id": "1j66j66xs7eu"
      },
      "source": [
        "import pandas as pd\r\n",
        "import re\r\n",
        "from nltk.corpus import stopwords\r\n",
        "from sklearn.feature_extraction.text import CountVectorizer\r\n",
        "from sklearn.model_selection import train_test_split\r\n",
        "from nltk.stem.snowball import SnowballStemmer\r\n",
        "import warnings\r\n",
        "warnings.filterwarnings('ignore')\r\n",
        "import pandas_profiling as pp\r\n",
        "import seaborn as sns\r\n",
        "import matplotlib.pyplot as plt\r\n",
        "%matplotlib inline"
      ],
      "execution_count": 2,
      "outputs": []
    },
    {
      "cell_type": "code",
      "metadata": {
        "id": "2jAfdWJG3EEg"
      },
      "source": [
        ""
      ],
      "execution_count": 2,
      "outputs": []
    },
    {
      "cell_type": "markdown",
      "metadata": {
        "id": "wyta8YNg3EhM"
      },
      "source": [
        "# Load Data"
      ]
    },
    {
      "cell_type": "code",
      "metadata": {
        "id": "C-RhllCyvEFy"
      },
      "source": [
        "blog_df=pd.read_csv('/content/gdrive/MyDrive/NLPLab/Dataset - blogtext.csv')"
      ],
      "execution_count": 3,
      "outputs": []
    },
    {
      "cell_type": "code",
      "metadata": {
        "colab": {
          "base_uri": "https://localhost:8080/"
        },
        "id": "I-jLh8mrvKh6",
        "outputId": "026c4c64-371d-4bae-8146-d0997026c5fd"
      },
      "source": [
        "blog_df.shape"
      ],
      "execution_count": 4,
      "outputs": [
        {
          "output_type": "execute_result",
          "data": {
            "text/plain": [
              "(681284, 7)"
            ]
          },
          "metadata": {
            "tags": []
          },
          "execution_count": 4
        }
      ]
    },
    {
      "cell_type": "code",
      "metadata": {
        "colab": {
          "base_uri": "https://localhost:8080/",
          "height": 202
        },
        "id": "dIKau7BNvNE5",
        "outputId": "f7caebbd-1f38-4300-84c8-e2c13ffc583d"
      },
      "source": [
        "blog_df.head()"
      ],
      "execution_count": 5,
      "outputs": [
        {
          "output_type": "execute_result",
          "data": {
            "text/html": [
              "<div>\n",
              "<style scoped>\n",
              "    .dataframe tbody tr th:only-of-type {\n",
              "        vertical-align: middle;\n",
              "    }\n",
              "\n",
              "    .dataframe tbody tr th {\n",
              "        vertical-align: top;\n",
              "    }\n",
              "\n",
              "    .dataframe thead th {\n",
              "        text-align: right;\n",
              "    }\n",
              "</style>\n",
              "<table border=\"1\" class=\"dataframe\">\n",
              "  <thead>\n",
              "    <tr style=\"text-align: right;\">\n",
              "      <th></th>\n",
              "      <th>id</th>\n",
              "      <th>gender</th>\n",
              "      <th>age</th>\n",
              "      <th>topic</th>\n",
              "      <th>sign</th>\n",
              "      <th>date</th>\n",
              "      <th>text</th>\n",
              "    </tr>\n",
              "  </thead>\n",
              "  <tbody>\n",
              "    <tr>\n",
              "      <th>0</th>\n",
              "      <td>2059027</td>\n",
              "      <td>male</td>\n",
              "      <td>15</td>\n",
              "      <td>Student</td>\n",
              "      <td>Leo</td>\n",
              "      <td>14,May,2004</td>\n",
              "      <td>Info has been found (+/- 100 pages,...</td>\n",
              "    </tr>\n",
              "    <tr>\n",
              "      <th>1</th>\n",
              "      <td>2059027</td>\n",
              "      <td>male</td>\n",
              "      <td>15</td>\n",
              "      <td>Student</td>\n",
              "      <td>Leo</td>\n",
              "      <td>13,May,2004</td>\n",
              "      <td>These are the team members:   Drewe...</td>\n",
              "    </tr>\n",
              "    <tr>\n",
              "      <th>2</th>\n",
              "      <td>2059027</td>\n",
              "      <td>male</td>\n",
              "      <td>15</td>\n",
              "      <td>Student</td>\n",
              "      <td>Leo</td>\n",
              "      <td>12,May,2004</td>\n",
              "      <td>In het kader van kernfusie op aarde...</td>\n",
              "    </tr>\n",
              "    <tr>\n",
              "      <th>3</th>\n",
              "      <td>2059027</td>\n",
              "      <td>male</td>\n",
              "      <td>15</td>\n",
              "      <td>Student</td>\n",
              "      <td>Leo</td>\n",
              "      <td>12,May,2004</td>\n",
              "      <td>testing!!!  testing!!!</td>\n",
              "    </tr>\n",
              "    <tr>\n",
              "      <th>4</th>\n",
              "      <td>3581210</td>\n",
              "      <td>male</td>\n",
              "      <td>33</td>\n",
              "      <td>InvestmentBanking</td>\n",
              "      <td>Aquarius</td>\n",
              "      <td>11,June,2004</td>\n",
              "      <td>Thanks to Yahoo!'s Toolbar I can ...</td>\n",
              "    </tr>\n",
              "  </tbody>\n",
              "</table>\n",
              "</div>"
            ],
            "text/plain": [
              "        id  ...                                               text\n",
              "0  2059027  ...             Info has been found (+/- 100 pages,...\n",
              "1  2059027  ...             These are the team members:   Drewe...\n",
              "2  2059027  ...             In het kader van kernfusie op aarde...\n",
              "3  2059027  ...                   testing!!!  testing!!!          \n",
              "4  3581210  ...               Thanks to Yahoo!'s Toolbar I can ...\n",
              "\n",
              "[5 rows x 7 columns]"
            ]
          },
          "metadata": {
            "tags": []
          },
          "execution_count": 5
        }
      ]
    },
    {
      "cell_type": "code",
      "metadata": {
        "id": "h9c3XLFhvSf_"
      },
      "source": [
        "blog_df = pd.read_csv(\"/content/gdrive/MyDrive/NLPLab/Dataset - blogtext.csv\",nrows=100000)"
      ],
      "execution_count": 6,
      "outputs": []
    },
    {
      "cell_type": "code",
      "metadata": {
        "colab": {
          "base_uri": "https://localhost:8080/",
          "height": 202
        },
        "id": "CrUdAK35vlgl",
        "outputId": "51be64b4-3fe2-4dc0-ecea-7c0974a780d3"
      },
      "source": [
        "blog_df.head()"
      ],
      "execution_count": 7,
      "outputs": [
        {
          "output_type": "execute_result",
          "data": {
            "text/html": [
              "<div>\n",
              "<style scoped>\n",
              "    .dataframe tbody tr th:only-of-type {\n",
              "        vertical-align: middle;\n",
              "    }\n",
              "\n",
              "    .dataframe tbody tr th {\n",
              "        vertical-align: top;\n",
              "    }\n",
              "\n",
              "    .dataframe thead th {\n",
              "        text-align: right;\n",
              "    }\n",
              "</style>\n",
              "<table border=\"1\" class=\"dataframe\">\n",
              "  <thead>\n",
              "    <tr style=\"text-align: right;\">\n",
              "      <th></th>\n",
              "      <th>id</th>\n",
              "      <th>gender</th>\n",
              "      <th>age</th>\n",
              "      <th>topic</th>\n",
              "      <th>sign</th>\n",
              "      <th>date</th>\n",
              "      <th>text</th>\n",
              "    </tr>\n",
              "  </thead>\n",
              "  <tbody>\n",
              "    <tr>\n",
              "      <th>0</th>\n",
              "      <td>2059027</td>\n",
              "      <td>male</td>\n",
              "      <td>15</td>\n",
              "      <td>Student</td>\n",
              "      <td>Leo</td>\n",
              "      <td>14,May,2004</td>\n",
              "      <td>Info has been found (+/- 100 pages,...</td>\n",
              "    </tr>\n",
              "    <tr>\n",
              "      <th>1</th>\n",
              "      <td>2059027</td>\n",
              "      <td>male</td>\n",
              "      <td>15</td>\n",
              "      <td>Student</td>\n",
              "      <td>Leo</td>\n",
              "      <td>13,May,2004</td>\n",
              "      <td>These are the team members:   Drewe...</td>\n",
              "    </tr>\n",
              "    <tr>\n",
              "      <th>2</th>\n",
              "      <td>2059027</td>\n",
              "      <td>male</td>\n",
              "      <td>15</td>\n",
              "      <td>Student</td>\n",
              "      <td>Leo</td>\n",
              "      <td>12,May,2004</td>\n",
              "      <td>In het kader van kernfusie op aarde...</td>\n",
              "    </tr>\n",
              "    <tr>\n",
              "      <th>3</th>\n",
              "      <td>2059027</td>\n",
              "      <td>male</td>\n",
              "      <td>15</td>\n",
              "      <td>Student</td>\n",
              "      <td>Leo</td>\n",
              "      <td>12,May,2004</td>\n",
              "      <td>testing!!!  testing!!!</td>\n",
              "    </tr>\n",
              "    <tr>\n",
              "      <th>4</th>\n",
              "      <td>3581210</td>\n",
              "      <td>male</td>\n",
              "      <td>33</td>\n",
              "      <td>InvestmentBanking</td>\n",
              "      <td>Aquarius</td>\n",
              "      <td>11,June,2004</td>\n",
              "      <td>Thanks to Yahoo!'s Toolbar I can ...</td>\n",
              "    </tr>\n",
              "  </tbody>\n",
              "</table>\n",
              "</div>"
            ],
            "text/plain": [
              "        id  ...                                               text\n",
              "0  2059027  ...             Info has been found (+/- 100 pages,...\n",
              "1  2059027  ...             These are the team members:   Drewe...\n",
              "2  2059027  ...             In het kader van kernfusie op aarde...\n",
              "3  2059027  ...                   testing!!!  testing!!!          \n",
              "4  3581210  ...               Thanks to Yahoo!'s Toolbar I can ...\n",
              "\n",
              "[5 rows x 7 columns]"
            ]
          },
          "metadata": {
            "tags": []
          },
          "execution_count": 7
        }
      ]
    },
    {
      "cell_type": "code",
      "metadata": {
        "colab": {
          "base_uri": "https://localhost:8080/"
        },
        "id": "0p2SLvaevo45",
        "outputId": "6c916746-ea85-426e-d3e8-9836cb2b8779"
      },
      "source": [
        "blog_df.info()  # Checking info about dataframe"
      ],
      "execution_count": 8,
      "outputs": [
        {
          "output_type": "stream",
          "text": [
            "<class 'pandas.core.frame.DataFrame'>\n",
            "RangeIndex: 100000 entries, 0 to 99999\n",
            "Data columns (total 7 columns):\n",
            " #   Column  Non-Null Count   Dtype \n",
            "---  ------  --------------   ----- \n",
            " 0   id      100000 non-null  int64 \n",
            " 1   gender  100000 non-null  object\n",
            " 2   age     100000 non-null  int64 \n",
            " 3   topic   100000 non-null  object\n",
            " 4   sign    100000 non-null  object\n",
            " 5   date    100000 non-null  object\n",
            " 6   text    100000 non-null  object\n",
            "dtypes: int64(2), object(5)\n",
            "memory usage: 5.3+ MB\n"
          ],
          "name": "stdout"
        }
      ]
    },
    {
      "cell_type": "code",
      "metadata": {
        "colab": {
          "base_uri": "https://localhost:8080/"
        },
        "id": "G1nfAAH1vtsu",
        "outputId": "4c17d8f6-8d27-4692-e5a8-a05b8a01e5f6"
      },
      "source": [
        "blog_df.gender.value_counts()"
      ],
      "execution_count": 9,
      "outputs": [
        {
          "output_type": "execute_result",
          "data": {
            "text/plain": [
              "male      53358\n",
              "female    46642\n",
              "Name: gender, dtype: int64"
            ]
          },
          "metadata": {
            "tags": []
          },
          "execution_count": 9
        }
      ]
    },
    {
      "cell_type": "code",
      "metadata": {
        "colab": {
          "base_uri": "https://localhost:8080/"
        },
        "id": "MqVWi6N-vxiC",
        "outputId": "4258b7cd-0c07-4fba-9a8a-53a10b28fca5"
      },
      "source": [
        "blog_df.isna().sum() #Checking Missing Values"
      ],
      "execution_count": 10,
      "outputs": [
        {
          "output_type": "execute_result",
          "data": {
            "text/plain": [
              "id        0\n",
              "gender    0\n",
              "age       0\n",
              "topic     0\n",
              "sign      0\n",
              "date      0\n",
              "text      0\n",
              "dtype: int64"
            ]
          },
          "metadata": {
            "tags": []
          },
          "execution_count": 10
        }
      ]
    },
    {
      "cell_type": "code",
      "metadata": {
        "id": "m2WX8v2L3Wny"
      },
      "source": [
        ""
      ],
      "execution_count": 10,
      "outputs": []
    },
    {
      "cell_type": "markdown",
      "metadata": {
        "id": "NOI_y08B3XKz"
      },
      "source": [
        "# EDA "
      ]
    },
    {
      "cell_type": "code",
      "metadata": {
        "colab": {
          "base_uri": "https://localhost:8080/",
          "height": 297
        },
        "id": "0469q5Zsv1MQ",
        "outputId": "871bc910-36db-4b26-fc41-c23f134705a5"
      },
      "source": [
        "sns.countplot(x='gender',data=blog_df)"
      ],
      "execution_count": 11,
      "outputs": [
        {
          "output_type": "execute_result",
          "data": {
            "text/plain": [
              "<matplotlib.axes._subplots.AxesSubplot at 0x7f4cd23d1ba8>"
            ]
          },
          "metadata": {
            "tags": []
          },
          "execution_count": 11
        },
        {
          "output_type": "display_data",
          "data": {
            "image/png": "[encoded data removed]",
            "text/plain": [
              "<Figure size 432x288 with 1 Axes>"
            ]
          },
          "metadata": {
            "tags": [],
            "needs_background": "light"
          }
        }
      ]
    },
    {
      "cell_type": "code",
      "metadata": {
        "colab": {
          "base_uri": "https://localhost:8080/"
        },
        "id": "-WB3w7fT2pui",
        "outputId": "9b02b573-676b-4453-f112-797e1ae2d4d1"
      },
      "source": [
        "blog_df_10s=blog_df[(blog_df['age'] >=13) & (blog_df['age'] <= 17)]\r\n",
        "print('Number of posts from age group 13-17: ', blog_df_10s.shape)\r\n",
        "print('Total number of bloggers of age group 13-17: ',blog_df_10s.id.nunique())\r\n",
        "blog_df_20s=blog_df[(blog_df['age'] >=23) & (blog_df['age'] <= 27)]\r\n",
        "print('Number of posts from age group 23-27: ', blog_df_10s.shape)\r\n",
        "print('Total number of bloggers of age group 23-27: ',blog_df_10s.id.nunique())\r\n",
        "blog_df_30s=blog_df[(blog_df['age'] >=33) & (blog_df['age'] <= 47)]\r\n",
        "print('Number of posts from age group 33-47: ', blog_df_10s.shape)\r\n",
        "print('Total number of bloggers of age group 33-47: ',blog_df_10s.id.nunique())"
      ],
      "execution_count": 12,
      "outputs": [
        {
          "output_type": "stream",
          "text": [
            "Number of posts from age group 13-17:  (32730, 7)\n",
            "Total number of bloggers of age group 13-17:  1198\n",
            "Number of posts from age group 23-27:  (32730, 7)\n",
            "Total number of bloggers of age group 23-27:  1198\n",
            "Number of posts from age group 33-47:  (32730, 7)\n",
            "Total number of bloggers of age group 33-47:  1198\n"
          ],
          "name": "stdout"
        }
      ]
    },
    {
      "cell_type": "code",
      "metadata": {
        "colab": {
          "base_uri": "https://localhost:8080/",
          "height": 350
        },
        "id": "OMAPkxw5v3_o",
        "outputId": "edeb68da-3a74-4fde-f37c-8762f02eba45"
      },
      "source": [
        "sns.countplot(x='sign',data=blog_df)\r\n",
        "plt.xticks(rotation=45)"
      ],
      "execution_count": 13,
      "outputs": [
        {
          "output_type": "execute_result",
          "data": {
            "text/plain": [
              "(array([ 0,  1,  2,  3,  4,  5,  6,  7,  8,  9, 10, 11]),\n",
              " <a list of 12 Text major ticklabel objects>)"
            ]
          },
          "metadata": {
            "tags": []
          },
          "execution_count": 13
        },
        {
          "output_type": "display_data",
          "data": {
            "image/png": "[encoded data removed]",
            "text/plain": [
              "<Figure size 432x288 with 1 Axes>"
            ]
          },
          "metadata": {
            "tags": [],
            "needs_background": "light"
          }
        }
      ]
    },
    {
      "cell_type": "code",
      "metadata": {
        "colab": {
          "base_uri": "https://localhost:8080/",
          "height": 433
        },
        "id": "qqwswbn2yUxq",
        "outputId": "c6c16f87-4c9b-4012-a371-6914ea6a1197"
      },
      "source": [
        "#top 10 Topics\r\n",
        "topic_count=blog_df['topic'].value_counts()[:10]\r\n",
        "plt.figure(figsize=(10,5))\r\n",
        "s=sns.barplot(topic_count.index, topic_count.values, alpha=0.8,)\r\n",
        "plt.xticks(rotation=45)\r\n",
        "plt.title('Top 10 topics')\r\n",
        "plt.ylabel('Number of Occurrences', fontsize=12)\r\n",
        "plt.xlabel('Topic', fontsize=12)\r\n",
        "plt.show()\r\n",
        "#most of the posts are for the topic indUnk"
      ],
      "execution_count": 14,
      "outputs": [
        {
          "output_type": "display_data",
          "data": {
            "image/png": "[encoded data removed]",
            "text/plain": [
              "<Figure size 720x360 with 1 Axes>"
            ]
          },
          "metadata": {
            "tags": [],
            "needs_background": "light"
          }
        }
      ]
    },
    {
      "cell_type": "code",
      "metadata": {
        "colab": {
          "base_uri": "https://localhost:8080/",
          "height": 299
        },
        "id": "gM17RxCx3BJx",
        "outputId": "f858536b-f612-4566-fc26-c1e95f4587e6"
      },
      "source": [
        "sns.countplot(x=\"age\", hue=\"gender\", data=blog_df)"
      ],
      "execution_count": 15,
      "outputs": [
        {
          "output_type": "execute_result",
          "data": {
            "text/plain": [
              "<matplotlib.axes._subplots.AxesSubplot at 0x7f4cd12a1208>"
            ]
          },
          "metadata": {
            "tags": []
          },
          "execution_count": 15
        },
        {
          "output_type": "display_data",
          "data": {
            "image/png": "[encoded data removed]",
            "text/plain": [
              "<Figure size 432x288 with 1 Axes>"
            ]
          },
          "metadata": {
            "tags": [],
            "needs_background": "light"
          }
        }
      ]
    },
    {
      "cell_type": "code",
      "metadata": {
        "id": "7e90kGIK3g8D"
      },
      "source": [
        ""
      ],
      "execution_count": 15,
      "outputs": []
    },
    {
      "cell_type": "markdown",
      "metadata": {
        "id": "3w_6epJl3m3Z"
      },
      "source": [
        "# Preprocessing of the Text Column"
      ]
    },
    {
      "cell_type": "code",
      "metadata": {
        "id": "iJ31qsvQv66S"
      },
      "source": [
        "pattern = \"[^\\w ]\"\r\n",
        "blog_df.text = blog_df.text.apply(lambda s : re.sub(pattern,\"\",s))\r\n",
        "# removed unwanted chars other than alphanumeric"
      ],
      "execution_count": 16,
      "outputs": []
    },
    {
      "cell_type": "code",
      "metadata": {
        "colab": {
          "base_uri": "https://localhost:8080/",
          "height": 202
        },
        "id": "_Uq8VXIIv_48",
        "outputId": "511f82f7-13cc-45cf-bdda-d1630b3e845a"
      },
      "source": [
        "blog_df.head(5)"
      ],
      "execution_count": 17,
      "outputs": [
        {
          "output_type": "execute_result",
          "data": {
            "text/html": [
              "<div>\n",
              "<style scoped>\n",
              "    .dataframe tbody tr th:only-of-type {\n",
              "        vertical-align: middle;\n",
              "    }\n",
              "\n",
              "    .dataframe tbody tr th {\n",
              "        vertical-align: top;\n",
              "    }\n",
              "\n",
              "    .dataframe thead th {\n",
              "        text-align: right;\n",
              "    }\n",
              "</style>\n",
              "<table border=\"1\" class=\"dataframe\">\n",
              "  <thead>\n",
              "    <tr style=\"text-align: right;\">\n",
              "      <th></th>\n",
              "      <th>id</th>\n",
              "      <th>gender</th>\n",
              "      <th>age</th>\n",
              "      <th>topic</th>\n",
              "      <th>sign</th>\n",
              "      <th>date</th>\n",
              "      <th>text</th>\n",
              "    </tr>\n",
              "  </thead>\n",
              "  <tbody>\n",
              "    <tr>\n",
              "      <th>0</th>\n",
              "      <td>2059027</td>\n",
              "      <td>male</td>\n",
              "      <td>15</td>\n",
              "      <td>Student</td>\n",
              "      <td>Leo</td>\n",
              "      <td>14,May,2004</td>\n",
              "      <td>Info has been found  100 pages and ...</td>\n",
              "    </tr>\n",
              "    <tr>\n",
              "      <th>1</th>\n",
              "      <td>2059027</td>\n",
              "      <td>male</td>\n",
              "      <td>15</td>\n",
              "      <td>Student</td>\n",
              "      <td>Leo</td>\n",
              "      <td>13,May,2004</td>\n",
              "      <td>These are the team members   Drewes...</td>\n",
              "    </tr>\n",
              "    <tr>\n",
              "      <th>2</th>\n",
              "      <td>2059027</td>\n",
              "      <td>male</td>\n",
              "      <td>15</td>\n",
              "      <td>Student</td>\n",
              "      <td>Leo</td>\n",
              "      <td>12,May,2004</td>\n",
              "      <td>In het kader van kernfusie op aarde...</td>\n",
              "    </tr>\n",
              "    <tr>\n",
              "      <th>3</th>\n",
              "      <td>2059027</td>\n",
              "      <td>male</td>\n",
              "      <td>15</td>\n",
              "      <td>Student</td>\n",
              "      <td>Leo</td>\n",
              "      <td>12,May,2004</td>\n",
              "      <td>testing  testing</td>\n",
              "    </tr>\n",
              "    <tr>\n",
              "      <th>4</th>\n",
              "      <td>3581210</td>\n",
              "      <td>male</td>\n",
              "      <td>33</td>\n",
              "      <td>InvestmentBanking</td>\n",
              "      <td>Aquarius</td>\n",
              "      <td>11,June,2004</td>\n",
              "      <td>Thanks to Yahoos Toolbar I can no...</td>\n",
              "    </tr>\n",
              "  </tbody>\n",
              "</table>\n",
              "</div>"
            ],
            "text/plain": [
              "        id  ...                                               text\n",
              "0  2059027  ...             Info has been found  100 pages and ...\n",
              "1  2059027  ...             These are the team members   Drewes...\n",
              "2  2059027  ...             In het kader van kernfusie op aarde...\n",
              "3  2059027  ...                         testing  testing          \n",
              "4  3581210  ...               Thanks to Yahoos Toolbar I can no...\n",
              "\n",
              "[5 rows x 7 columns]"
            ]
          },
          "metadata": {
            "tags": []
          },
          "execution_count": 17
        }
      ]
    },
    {
      "cell_type": "code",
      "metadata": {
        "id": "NITH2cFywDqq"
      },
      "source": [
        "blog_df.text = blog_df.text.apply(lambda s: s.lower()) #all the charters in lower case"
      ],
      "execution_count": 18,
      "outputs": []
    },
    {
      "cell_type": "code",
      "metadata": {
        "id": "9ftwcNJ8wG8F"
      },
      "source": [
        "#removed unwanted spaces\r\n",
        "blog_df.text = blog_df.text.apply(lambda s: s.strip())"
      ],
      "execution_count": 19,
      "outputs": []
    },
    {
      "cell_type": "code",
      "metadata": {
        "colab": {
          "base_uri": "https://localhost:8080/"
        },
        "id": "hFRRVj3EwTeo",
        "outputId": "9161c377-be84-4082-8c70-41134580d319"
      },
      "source": [
        "import nltk\r\n",
        "nltk.download('stopwords')"
      ],
      "execution_count": 20,
      "outputs": [
        {
          "output_type": "stream",
          "text": [
            "[nltk_data] Downloading package stopwords to /root/nltk_data...\n",
            "[nltk_data]   Package stopwords is already up-to-date!\n"
          ],
          "name": "stdout"
        },
        {
          "output_type": "execute_result",
          "data": {
            "text/plain": [
              "True"
            ]
          },
          "metadata": {
            "tags": []
          },
          "execution_count": 20
        }
      ]
    },
    {
      "cell_type": "code",
      "metadata": {
        "id": "so26vzLjwLkB"
      },
      "source": [
        "#remove stopwords\r\n",
        "stopwords=set(stopwords.words('english'))"
      ],
      "execution_count": 21,
      "outputs": []
    },
    {
      "cell_type": "code",
      "metadata": {
        "id": "0KJtJaQMwPCr"
      },
      "source": [
        "blog_df.text = blog_df.text.apply(lambda t: ' '.join([words for words in t.split() if words not in stopwords]) )"
      ],
      "execution_count": 22,
      "outputs": []
    },
    {
      "cell_type": "code",
      "metadata": {
        "colab": {
          "base_uri": "https://localhost:8080/",
          "height": 202
        },
        "id": "S2Dxv_jIwdnv",
        "outputId": "5f86c376-8ed4-4a41-851d-5e243526ab70"
      },
      "source": [
        "blog_df.head()"
      ],
      "execution_count": 23,
      "outputs": [
        {
          "output_type": "execute_result",
          "data": {
            "text/html": [
              "<div>\n",
              "<style scoped>\n",
              "    .dataframe tbody tr th:only-of-type {\n",
              "        vertical-align: middle;\n",
              "    }\n",
              "\n",
              "    .dataframe tbody tr th {\n",
              "        vertical-align: top;\n",
              "    }\n",
              "\n",
              "    .dataframe thead th {\n",
              "        text-align: right;\n",
              "    }\n",
              "</style>\n",
              "<table border=\"1\" class=\"dataframe\">\n",
              "  <thead>\n",
              "    <tr style=\"text-align: right;\">\n",
              "      <th></th>\n",
              "      <th>id</th>\n",
              "      <th>gender</th>\n",
              "      <th>age</th>\n",
              "      <th>topic</th>\n",
              "      <th>sign</th>\n",
              "      <th>date</th>\n",
              "      <th>text</th>\n",
              "    </tr>\n",
              "  </thead>\n",
              "  <tbody>\n",
              "    <tr>\n",
              "      <th>0</th>\n",
              "      <td>2059027</td>\n",
              "      <td>male</td>\n",
              "      <td>15</td>\n",
              "      <td>Student</td>\n",
              "      <td>Leo</td>\n",
              "      <td>14,May,2004</td>\n",
              "      <td>info found 100 pages 45 mb pdf files wait unti...</td>\n",
              "    </tr>\n",
              "    <tr>\n",
              "      <th>1</th>\n",
              "      <td>2059027</td>\n",
              "      <td>male</td>\n",
              "      <td>15</td>\n",
              "      <td>Student</td>\n",
              "      <td>Leo</td>\n",
              "      <td>13,May,2004</td>\n",
              "      <td>team members drewes van der laag urllink mail ...</td>\n",
              "    </tr>\n",
              "    <tr>\n",
              "      <th>2</th>\n",
              "      <td>2059027</td>\n",
              "      <td>male</td>\n",
              "      <td>15</td>\n",
              "      <td>Student</td>\n",
              "      <td>Leo</td>\n",
              "      <td>12,May,2004</td>\n",
              "      <td>het kader van kernfusie op aarde maak je eigen...</td>\n",
              "    </tr>\n",
              "    <tr>\n",
              "      <th>3</th>\n",
              "      <td>2059027</td>\n",
              "      <td>male</td>\n",
              "      <td>15</td>\n",
              "      <td>Student</td>\n",
              "      <td>Leo</td>\n",
              "      <td>12,May,2004</td>\n",
              "      <td>testing testing</td>\n",
              "    </tr>\n",
              "    <tr>\n",
              "      <th>4</th>\n",
              "      <td>3581210</td>\n",
              "      <td>male</td>\n",
              "      <td>33</td>\n",
              "      <td>InvestmentBanking</td>\n",
              "      <td>Aquarius</td>\n",
              "      <td>11,June,2004</td>\n",
              "      <td>thanks yahoos toolbar capture urls popupswhich...</td>\n",
              "    </tr>\n",
              "  </tbody>\n",
              "</table>\n",
              "</div>"
            ],
            "text/plain": [
              "        id  ...                                               text\n",
              "0  2059027  ...  info found 100 pages 45 mb pdf files wait unti...\n",
              "1  2059027  ...  team members drewes van der laag urllink mail ...\n",
              "2  2059027  ...  het kader van kernfusie op aarde maak je eigen...\n",
              "3  2059027  ...                                    testing testing\n",
              "4  3581210  ...  thanks yahoos toolbar capture urls popupswhich...\n",
              "\n",
              "[5 rows x 7 columns]"
            ]
          },
          "metadata": {
            "tags": []
          },
          "execution_count": 23
        }
      ]
    },
    {
      "cell_type": "code",
      "metadata": {
        "id": "S2dS2r0twf9Y"
      },
      "source": [
        "# droped id and date columns\r\n",
        "blog_df.drop(labels=['id','date'], axis=1,inplace=True)"
      ],
      "execution_count": 24,
      "outputs": []
    },
    {
      "cell_type": "code",
      "metadata": {
        "id": "0XSQ79774DFS"
      },
      "source": [
        "blog_df['age'] = blog_df['age'].astype('str')"
      ],
      "execution_count": 25,
      "outputs": []
    },
    {
      "cell_type": "markdown",
      "metadata": {
        "id": "faPcxT6i4TTR"
      },
      "source": [
        "# Merged all the label columns together, so that we have all the labels together for a particular sentence"
      ]
    },
    {
      "cell_type": "code",
      "metadata": {
        "id": "U7sWfiXvwjhI"
      },
      "source": [
        "blog_df['labels'] = blog_df.apply(lambda col : [col['gender'],col['age'],col['topic'],col['sign']], axis=1)"
      ],
      "execution_count": 26,
      "outputs": []
    },
    {
      "cell_type": "code",
      "metadata": {
        "id": "cOoge0hFwmzG"
      },
      "source": [
        "#drop  gender,age,topic & sign as they are already merged to labels column\r\n",
        "blog_df.drop(columns=['gender','age','topic','sign'], axis=1, inplace=True)"
      ],
      "execution_count": 27,
      "outputs": []
    },
    {
      "cell_type": "code",
      "metadata": {
        "colab": {
          "base_uri": "https://localhost:8080/",
          "height": 202
        },
        "id": "HKanUsudwquT",
        "outputId": "67b9e250-67e7-476f-9757-d1dadeda6a6a"
      },
      "source": [
        "blog_df.head()"
      ],
      "execution_count": 28,
      "outputs": [
        {
          "output_type": "execute_result",
          "data": {
            "text/html": [
              "<div>\n",
              "<style scoped>\n",
              "    .dataframe tbody tr th:only-of-type {\n",
              "        vertical-align: middle;\n",
              "    }\n",
              "\n",
              "    .dataframe tbody tr th {\n",
              "        vertical-align: top;\n",
              "    }\n",
              "\n",
              "    .dataframe thead th {\n",
              "        text-align: right;\n",
              "    }\n",
              "</style>\n",
              "<table border=\"1\" class=\"dataframe\">\n",
              "  <thead>\n",
              "    <tr style=\"text-align: right;\">\n",
              "      <th></th>\n",
              "      <th>text</th>\n",
              "      <th>labels</th>\n",
              "    </tr>\n",
              "  </thead>\n",
              "  <tbody>\n",
              "    <tr>\n",
              "      <th>0</th>\n",
              "      <td>info found 100 pages 45 mb pdf files wait unti...</td>\n",
              "      <td>[male, 15, Student, Leo]</td>\n",
              "    </tr>\n",
              "    <tr>\n",
              "      <th>1</th>\n",
              "      <td>team members drewes van der laag urllink mail ...</td>\n",
              "      <td>[male, 15, Student, Leo]</td>\n",
              "    </tr>\n",
              "    <tr>\n",
              "      <th>2</th>\n",
              "      <td>het kader van kernfusie op aarde maak je eigen...</td>\n",
              "      <td>[male, 15, Student, Leo]</td>\n",
              "    </tr>\n",
              "    <tr>\n",
              "      <th>3</th>\n",
              "      <td>testing testing</td>\n",
              "      <td>[male, 15, Student, Leo]</td>\n",
              "    </tr>\n",
              "    <tr>\n",
              "      <th>4</th>\n",
              "      <td>thanks yahoos toolbar capture urls popupswhich...</td>\n",
              "      <td>[male, 33, InvestmentBanking, Aquarius]</td>\n",
              "    </tr>\n",
              "  </tbody>\n",
              "</table>\n",
              "</div>"
            ],
            "text/plain": [
              "                                                text                                   labels\n",
              "0  info found 100 pages 45 mb pdf files wait unti...                 [male, 15, Student, Leo]\n",
              "1  team members drewes van der laag urllink mail ...                 [male, 15, Student, Leo]\n",
              "2  het kader van kernfusie op aarde maak je eigen...                 [male, 15, Student, Leo]\n",
              "3                                    testing testing                 [male, 15, Student, Leo]\n",
              "4  thanks yahoos toolbar capture urls popupswhich...  [male, 33, InvestmentBanking, Aquarius]"
            ]
          },
          "metadata": {
            "tags": []
          },
          "execution_count": 28
        }
      ]
    },
    {
      "cell_type": "code",
      "metadata": {
        "id": "9sRUQnjGws3t"
      },
      "source": [
        "X= blog_df.text\r\n",
        "y = blog_df.labels"
      ],
      "execution_count": 29,
      "outputs": []
    },
    {
      "cell_type": "markdown",
      "metadata": {
        "id": "aG8LXFdx4e1j"
      },
      "source": [
        "# Train and Test Split"
      ]
    },
    {
      "cell_type": "code",
      "metadata": {
        "id": "6azu9uvTwwAu"
      },
      "source": [
        "# split X and y into training and testing sets\r\n",
        "X_train, X_test, y_train, y_test = train_test_split(X,y, random_state=83,test_size = 0.2)"
      ],
      "execution_count": 30,
      "outputs": []
    },
    {
      "cell_type": "code",
      "metadata": {
        "colab": {
          "base_uri": "https://localhost:8080/"
        },
        "id": "4sMoAcD5wy-a",
        "outputId": "cb05ceac-6e48-4142-a14a-2008725300ae"
      },
      "source": [
        "print(X_train.shape)\r\n",
        "print(y_train.shape)"
      ],
      "execution_count": 31,
      "outputs": [
        {
          "output_type": "stream",
          "text": [
            "(80000,)\n",
            "(80000,)\n"
          ],
          "name": "stdout"
        }
      ]
    },
    {
      "cell_type": "code",
      "metadata": {
        "colab": {
          "base_uri": "https://localhost:8080/"
        },
        "id": "OUZs_YWMw45u",
        "outputId": "07c1198c-6d55-464d-b17f-d6328e9b20b8"
      },
      "source": [
        "print(X_test.shape)\r\n",
        "print(y_test.shape)"
      ],
      "execution_count": 32,
      "outputs": [
        {
          "output_type": "stream",
          "text": [
            "(20000,)\n",
            "(20000,)\n"
          ],
          "name": "stdout"
        }
      ]
    },
    {
      "cell_type": "code",
      "metadata": {
        "id": "BAZe64lO4m9H"
      },
      "source": [
        ""
      ],
      "execution_count": 32,
      "outputs": []
    },
    {
      "cell_type": "markdown",
      "metadata": {
        "id": "cqqtNV8R4nfK"
      },
      "source": [
        "# Vectorization of  the features"
      ]
    },
    {
      "cell_type": "markdown",
      "metadata": {
        "id": "lYHf4DKckIr-"
      },
      "source": [
        "\r\n",
        "\r\n",
        "> CountVectorizer\r\n",
        "\r\n"
      ]
    },
    {
      "cell_type": "code",
      "metadata": {
        "id": "SQ0C0eAvw9WC"
      },
      "source": [
        "cvect = CountVectorizer(analyzer='word',token_pattern=r'\\w{1,}', ngram_range=(1, 2),\r\n",
        "             stop_words = 'english')"
      ],
      "execution_count": 33,
      "outputs": []
    },
    {
      "cell_type": "code",
      "metadata": {
        "colab": {
          "base_uri": "https://localhost:8080/"
        },
        "id": "O3LjcGqIxAxy",
        "outputId": "f48ce22e-5d1d-41d5-9842-d415598d9306"
      },
      "source": [
        "cvect.fit(X_train)\r\n",
        "\r\n",
        "#Check the vocablury size\r\n",
        "len(cvect.vocabulary_)"
      ],
      "execution_count": 34,
      "outputs": [
        {
          "output_type": "execute_result",
          "data": {
            "text/plain": [
              "4422783"
            ]
          },
          "metadata": {
            "tags": []
          },
          "execution_count": 34
        }
      ]
    },
    {
      "cell_type": "code",
      "metadata": {
        "colab": {
          "base_uri": "https://localhost:8080/"
        },
        "id": "-PX2u3QFz-vr",
        "outputId": "1770cf0b-5a95-4198-c3ba-bb941056b5fe"
      },
      "source": [
        "cvect.get_feature_names()[5000:5010]"
      ],
      "execution_count": 35,
      "outputs": [
        {
          "output_type": "execute_result",
          "data": {
            "text/plain": [
              "['1 mom',\n",
              " '1 moment',\n",
              " '1 mondays',\n",
              " '1 money',\n",
              " '1 monkey',\n",
              " '1 month',\n",
              " '1 months',\n",
              " '1 mornin',\n",
              " '1 morning',\n",
              " '1 morocco']"
            ]
          },
          "metadata": {
            "tags": []
          },
          "execution_count": 35
        }
      ]
    },
    {
      "cell_type": "code",
      "metadata": {
        "id": "K0p5iA9G0DKY"
      },
      "source": [
        "X_train_ct = cvect.transform(X_train)"
      ],
      "execution_count": 36,
      "outputs": []
    },
    {
      "cell_type": "code",
      "metadata": {
        "colab": {
          "base_uri": "https://localhost:8080/"
        },
        "id": "7DrpQ6zQ0eVq",
        "outputId": "5fe1e227-b35d-442d-8e0a-79a7aa4b4a94"
      },
      "source": [
        "type(X_train_ct)"
      ],
      "execution_count": 37,
      "outputs": [
        {
          "output_type": "execute_result",
          "data": {
            "text/plain": [
              "scipy.sparse.csr.csr_matrix"
            ]
          },
          "metadata": {
            "tags": []
          },
          "execution_count": 37
        }
      ]
    },
    {
      "cell_type": "code",
      "metadata": {
        "colab": {
          "base_uri": "https://localhost:8080/"
        },
        "id": "c0D49w470iq_",
        "outputId": "3bd2f625-3b29-489d-f0a3-7c55245b6fe8"
      },
      "source": [
        "X_train_ct"
      ],
      "execution_count": 38,
      "outputs": [
        {
          "output_type": "execute_result",
          "data": {
            "text/plain": [
              "<80000x4422783 sparse matrix of type '<class 'numpy.int64'>'\n",
              "\twith 12416059 stored elements in Compressed Sparse Row format>"
            ]
          },
          "metadata": {
            "tags": []
          },
          "execution_count": 38
        }
      ]
    },
    {
      "cell_type": "code",
      "metadata": {
        "colab": {
          "base_uri": "https://localhost:8080/"
        },
        "id": "a8CH-w5E0llu",
        "outputId": "da25792c-f60f-44e7-c67e-dc8b2300dd2a"
      },
      "source": [
        "X_train_ct[0]"
      ],
      "execution_count": 39,
      "outputs": [
        {
          "output_type": "execute_result",
          "data": {
            "text/plain": [
              "<1x4422783 sparse matrix of type '<class 'numpy.int64'>'\n",
              "\twith 219 stored elements in Compressed Sparse Row format>"
            ]
          },
          "metadata": {
            "tags": []
          },
          "execution_count": 39
        }
      ]
    },
    {
      "cell_type": "code",
      "metadata": {
        "id": "KgbumYaI0pJx"
      },
      "source": [
        "X_test_ct = cvect.transform(X_test)"
      ],
      "execution_count": 40,
      "outputs": []
    },
    {
      "cell_type": "code",
      "metadata": {
        "colab": {
          "base_uri": "https://localhost:8080/"
        },
        "id": "cXRFxHer0sO9",
        "outputId": "f2353a1f-b633-4642-b6ad-b787b9174c46"
      },
      "source": [
        "X_test_ct"
      ],
      "execution_count": 41,
      "outputs": [
        {
          "output_type": "execute_result",
          "data": {
            "text/plain": [
              "<20000x4422783 sparse matrix of type '<class 'numpy.int64'>'\n",
              "\twith 2174842 stored elements in Compressed Sparse Row format>"
            ]
          },
          "metadata": {
            "tags": []
          },
          "execution_count": 41
        }
      ]
    },
    {
      "cell_type": "code",
      "metadata": {
        "colab": {
          "base_uri": "https://localhost:8080/"
        },
        "id": "oiYTnYXr0uMd",
        "outputId": "83b69a72-b875-4919-8f31-d4b5259449b0"
      },
      "source": [
        "print(X_train_ct)"
      ],
      "execution_count": 42,
      "outputs": [
        {
          "output_type": "stream",
          "text": [
            "  (0, 12384)\t1\n",
            "  (0, 13217)\t1\n",
            "  (0, 155451)\t1\n",
            "  (0, 155599)\t1\n",
            "  (0, 169018)\t1\n",
            "  (0, 169224)\t1\n",
            "  (0, 198318)\t1\n",
            "  (0, 199005)\t1\n",
            "  (0, 221374)\t1\n",
            "  (0, 221671)\t1\n",
            "  (0, 279335)\t1\n",
            "  (0, 280307)\t1\n",
            "  (0, 376012)\t1\n",
            "  (0, 376042)\t1\n",
            "  (0, 411716)\t1\n",
            "  (0, 412544)\t1\n",
            "  (0, 454828)\t1\n",
            "  (0, 455616)\t1\n",
            "  (0, 538418)\t1\n",
            "  (0, 538419)\t1\n",
            "  (0, 553597)\t1\n",
            "  (0, 554095)\t1\n",
            "  (0, 557122)\t1\n",
            "  (0, 557202)\t1\n",
            "  (0, 597708)\t1\n",
            "  :\t:\n",
            "  (79998, 4058337)\t1\n",
            "  (79998, 4058966)\t1\n",
            "  (79998, 4105746)\t1\n",
            "  (79998, 4107647)\t1\n",
            "  (79998, 4119553)\t1\n",
            "  (79998, 4119559)\t1\n",
            "  (79998, 4184415)\t1\n",
            "  (79998, 4185637)\t1\n",
            "  (79998, 4193217)\t1\n",
            "  (79998, 4193315)\t1\n",
            "  (79998, 4283215)\t1\n",
            "  (79998, 4283543)\t1\n",
            "  (79998, 4310911)\t1\n",
            "  (79998, 4312313)\t1\n",
            "  (79999, 59902)\t1\n",
            "  (79999, 62993)\t1\n",
            "  (79999, 476441)\t1\n",
            "  (79999, 1365976)\t1\n",
            "  (79999, 1367510)\t1\n",
            "  (79999, 2228358)\t1\n",
            "  (79999, 2228649)\t1\n",
            "  (79999, 4114185)\t1\n",
            "  (79999, 4114338)\t1\n",
            "  (79999, 4376942)\t1\n",
            "  (79999, 4377678)\t1\n"
          ],
          "name": "stdout"
        }
      ]
    },
    {
      "cell_type": "code",
      "metadata": {
        "colab": {
          "base_uri": "https://localhost:8080/"
        },
        "id": "JGnC3hwI0zCR",
        "outputId": "e110e09d-15d7-41d2-ac38-9c6486f2a08c"
      },
      "source": [
        "print(X_test_ct)"
      ],
      "execution_count": 43,
      "outputs": [
        {
          "output_type": "stream",
          "text": [
            "  (0, 6361)\t1\n",
            "  (0, 6756)\t1\n",
            "  (0, 37228)\t1\n",
            "  (0, 42019)\t1\n",
            "  (0, 42190)\t1\n",
            "  (0, 119102)\t1\n",
            "  (0, 119310)\t1\n",
            "  (0, 138443)\t2\n",
            "  (0, 138460)\t2\n",
            "  (0, 163475)\t1\n",
            "  (0, 208387)\t1\n",
            "  (0, 208690)\t1\n",
            "  (0, 242406)\t1\n",
            "  (0, 244640)\t1\n",
            "  (0, 315551)\t1\n",
            "  (0, 316390)\t1\n",
            "  (0, 344856)\t2\n",
            "  (0, 345459)\t1\n",
            "  (0, 346132)\t1\n",
            "  (0, 355095)\t1\n",
            "  (0, 371990)\t1\n",
            "  (0, 372248)\t1\n",
            "  (0, 373895)\t1\n",
            "  (0, 379626)\t1\n",
            "  (0, 379811)\t1\n",
            "  :\t:\n",
            "  (19999, 1347986)\t1\n",
            "  (19999, 1585221)\t1\n",
            "  (19999, 1589468)\t1\n",
            "  (19999, 1827712)\t1\n",
            "  (19999, 2137398)\t1\n",
            "  (19999, 2551198)\t1\n",
            "  (19999, 2551924)\t1\n",
            "  (19999, 2581766)\t1\n",
            "  (19999, 2668397)\t1\n",
            "  (19999, 2720906)\t1\n",
            "  (19999, 3173723)\t1\n",
            "  (19999, 3278383)\t1\n",
            "  (19999, 3320702)\t1\n",
            "  (19999, 3320886)\t1\n",
            "  (19999, 3564597)\t1\n",
            "  (19999, 3598152)\t1\n",
            "  (19999, 3712174)\t1\n",
            "  (19999, 3727889)\t1\n",
            "  (19999, 3728709)\t1\n",
            "  (19999, 3865523)\t1\n",
            "  (19999, 3867270)\t1\n",
            "  (19999, 4320359)\t1\n",
            "  (19999, 4324526)\t1\n",
            "  (19999, 4376942)\t1\n",
            "  (19999, 4378864)\t1\n"
          ],
          "name": "stdout"
        }
      ]
    },
    {
      "cell_type": "code",
      "metadata": {
        "id": "3gNZNTRFkQCi"
      },
      "source": [
        ""
      ],
      "execution_count": null,
      "outputs": []
    },
    {
      "cell_type": "markdown",
      "metadata": {
        "id": "0MSCI_Q_kQrj"
      },
      "source": [
        "\r\n",
        "\r\n",
        "> **Tfidf Vectorizer**\r\n",
        "\r\n"
      ]
    },
    {
      "cell_type": "code",
      "metadata": {
        "id": "MoR1lyJulPHq"
      },
      "source": [
        "tfv = TfidfVectorizer(min_df=3,  max_features=None, \r\n",
        "            strip_accents='unicode', analyzer='word',token_pattern=r'\\w{1,}',\r\n",
        "            ngram_range=(1, 2), use_idf=1,smooth_idf=1,sublinear_tf=1,\r\n",
        "            stop_words = 'english')\r\n",
        "\r\n",
        "# Fitting TF-IDF to both training and test sets (semi-supervised learning)\r\n",
        "tfv.fit(list(X_train) )\r\n",
        "X_train_tfv =  tfv.transform(X_train) \r\n",
        "X_test_tfv = tfv.transform(X_test)"
      ],
      "execution_count": null,
      "outputs": []
    },
    {
      "cell_type": "markdown",
      "metadata": {
        "id": "ALRDE3AHl4SX"
      },
      "source": [
        "Tried wit both CountVectorizer and TfidfVectorizer. But using CountVectorizer."
      ]
    },
    {
      "cell_type": "markdown",
      "metadata": {
        "id": "h40tLGr-5Rma"
      },
      "source": [
        "# Dictionary to get the count of every label"
      ]
    },
    {
      "cell_type": "code",
      "metadata": {
        "id": "hDYmU4kS02xw"
      },
      "source": [
        "label_counts=dict()\r\n",
        "\r\n",
        "for labels in blog_df.labels.values:\r\n",
        "    for label in labels:\r\n",
        "        if label in label_counts:\r\n",
        "            label_counts[str(label)]+=1\r\n",
        "        else:\r\n",
        "            label_counts[str(label)]=1"
      ],
      "execution_count": 44,
      "outputs": []
    },
    {
      "cell_type": "code",
      "metadata": {
        "colab": {
          "base_uri": "https://localhost:8080/"
        },
        "id": "QqyvIzbi068S",
        "outputId": "008174fc-d5e2-4f5e-c741-374d435c01cf"
      },
      "source": [
        "label_counts"
      ],
      "execution_count": 45,
      "outputs": [
        {
          "output_type": "execute_result",
          "data": {
            "text/plain": [
              "{'13': 1497,\n",
              " '14': 3540,\n",
              " '15': 6532,\n",
              " '16': 8406,\n",
              " '17': 12755,\n",
              " '23': 10757,\n",
              " '24': 11814,\n",
              " '25': 8660,\n",
              " '26': 8059,\n",
              " '27': 8007,\n",
              " '33': 2835,\n",
              " '34': 2388,\n",
              " '35': 4720,\n",
              " '36': 3045,\n",
              " '37': 863,\n",
              " '38': 801,\n",
              " '39': 568,\n",
              " '40': 513,\n",
              " '41': 772,\n",
              " '42': 156,\n",
              " '43': 505,\n",
              " '44': 76,\n",
              " '45': 906,\n",
              " '46': 914,\n",
              " '47': 397,\n",
              " '48': 514,\n",
              " 'Accounting': 528,\n",
              " 'Advertising': 766,\n",
              " 'Agriculture': 168,\n",
              " 'Aquarius': 9050,\n",
              " 'Architecture': 83,\n",
              " 'Aries': 10637,\n",
              " 'Arts': 5031,\n",
              " 'Automotive': 124,\n",
              " 'Banking': 354,\n",
              " 'Biotech': 324,\n",
              " 'BusinessServices': 626,\n",
              " 'Cancer': 9253,\n",
              " 'Capricorn': 8723,\n",
              " 'Chemicals': 305,\n",
              " 'Communications-Media': 2830,\n",
              " 'Construction': 250,\n",
              " 'Consulting': 905,\n",
              " 'Education': 5553,\n",
              " 'Engineering': 2332,\n",
              " 'Environment': 6,\n",
              " 'Fashion': 1898,\n",
              " 'Gemini': 9225,\n",
              " 'Government': 2055,\n",
              " 'HumanResources': 209,\n",
              " 'Internet': 2251,\n",
              " 'InvestmentBanking': 244,\n",
              " 'Law': 360,\n",
              " 'LawEnforcement-Security': 368,\n",
              " 'Leo': 8230,\n",
              " 'Libra': 7250,\n",
              " 'Manufacturing': 542,\n",
              " 'Maritime': 59,\n",
              " 'Marketing': 726,\n",
              " 'Military': 798,\n",
              " 'Museums-Libraries': 308,\n",
              " 'Non-Profit': 1326,\n",
              " 'Pisces': 7553,\n",
              " 'Publishing': 1079,\n",
              " 'RealEstate': 149,\n",
              " 'Religion': 1081,\n",
              " 'Sagittarius': 7366,\n",
              " 'Science': 1090,\n",
              " 'Scorpio': 7049,\n",
              " 'Sports-Recreation': 406,\n",
              " 'Student': 22122,\n",
              " 'Taurus': 8530,\n",
              " 'Technology': 8484,\n",
              " 'Telecommunications': 165,\n",
              " 'Tourism': 253,\n",
              " 'Transportation': 745,\n",
              " 'Virgo': 7134,\n",
              " 'female': 46642,\n",
              " 'indUnk': 33097,\n",
              " 'male': 53358}"
            ]
          },
          "metadata": {
            "tags": []
          },
          "execution_count": 45
        }
      ]
    },
    {
      "cell_type": "markdown",
      "metadata": {
        "id": "KLm2ECVm5dtP"
      },
      "source": [
        "# Transformations of the labels"
      ]
    },
    {
      "cell_type": "code",
      "metadata": {
        "id": "zxUc5UAE09DT"
      },
      "source": [
        "from sklearn.preprocessing import MultiLabelBinarizer\r\n",
        "binarizer=MultiLabelBinarizer(classes=sorted(label_counts.keys()))"
      ],
      "execution_count": 46,
      "outputs": []
    },
    {
      "cell_type": "code",
      "metadata": {
        "id": "pXp1hlbV1BMg"
      },
      "source": [
        "y_train = binarizer.fit_transform(y_train)"
      ],
      "execution_count": 47,
      "outputs": []
    },
    {
      "cell_type": "code",
      "metadata": {
        "id": "lLExn1wK1Dhb"
      },
      "source": [
        "y_test = binarizer.transform(y_test)"
      ],
      "execution_count": 48,
      "outputs": []
    },
    {
      "cell_type": "code",
      "metadata": {
        "colab": {
          "base_uri": "https://localhost:8080/"
        },
        "id": "N28-PcBE1GFi",
        "outputId": "dcb04e81-6956-4982-9c43-88c4e03b20c9"
      },
      "source": [
        "y_test"
      ],
      "execution_count": 49,
      "outputs": [
        {
          "output_type": "execute_result",
          "data": {
            "text/plain": [
              "array([[0, 0, 1, ..., 0, 0, 1],\n",
              "       [0, 0, 0, ..., 0, 0, 1],\n",
              "       [0, 0, 0, ..., 0, 1, 1],\n",
              "       ...,\n",
              "       [0, 0, 0, ..., 0, 1, 1],\n",
              "       [0, 0, 0, ..., 1, 0, 0],\n",
              "       [0, 0, 0, ..., 1, 1, 0]])"
            ]
          },
          "metadata": {
            "tags": []
          },
          "execution_count": 49
        }
      ]
    },
    {
      "cell_type": "markdown",
      "metadata": {
        "id": "NmefzQAv5oj6"
      },
      "source": [
        "# Classification"
      ]
    },
    {
      "cell_type": "code",
      "metadata": {
        "id": "xmOHGSNg1Ib6"
      },
      "source": [
        "from sklearn.multiclass import OneVsRestClassifier\r\n",
        "from sklearn.linear_model import LogisticRegression"
      ],
      "execution_count": 50,
      "outputs": []
    },
    {
      "cell_type": "code",
      "metadata": {
        "id": "hcVbeBQY1NDM",
        "colab": {
          "base_uri": "https://localhost:8080/"
        },
        "outputId": "001c03b4-8e1c-4af1-c0f2-4d5023b3ecc1"
      },
      "source": [
        "model=LogisticRegression(solver='lbfgs', multi_class='ovr', max_iter=50)\r\n",
        "model=OneVsRestClassifier(model)\r\n",
        "model.fit(X_train_ct,y_train)"
      ],
      "execution_count": 51,
      "outputs": [
        {
          "output_type": "execute_result",
          "data": {
            "text/plain": [
              "OneVsRestClassifier(estimator=LogisticRegression(C=1.0, class_weight=None,\n",
              "                                                 dual=False, fit_intercept=True,\n",
              "                                                 intercept_scaling=1,\n",
              "                                                 l1_ratio=None, max_iter=50,\n",
              "                                                 multi_class='ovr', n_jobs=None,\n",
              "                                                 penalty='l2',\n",
              "                                                 random_state=None,\n",
              "                                                 solver='lbfgs', tol=0.0001,\n",
              "                                                 verbose=0, warm_start=False),\n",
              "                    n_jobs=None)"
            ]
          },
          "metadata": {
            "tags": []
          },
          "execution_count": 51
        }
      ]
    },
    {
      "cell_type": "code",
      "metadata": {
        "id": "XGv0MoaT1Pr_"
      },
      "source": [
        "Ypred=model.predict(X_test_ct)"
      ],
      "execution_count": 52,
      "outputs": []
    },
    {
      "cell_type": "code",
      "metadata": {
        "id": "ArhTY8911Si4",
        "colab": {
          "base_uri": "https://localhost:8080/"
        },
        "outputId": "532efed5-aa32-41c7-b329-9547503fe583"
      },
      "source": [
        "Ypred"
      ],
      "execution_count": 53,
      "outputs": [
        {
          "output_type": "execute_result",
          "data": {
            "text/plain": [
              "array([[0, 0, 1, ..., 0, 0, 1],\n",
              "       [0, 0, 0, ..., 1, 0, 0],\n",
              "       [0, 0, 0, ..., 0, 1, 1],\n",
              "       ...,\n",
              "       [0, 0, 0, ..., 0, 1, 1],\n",
              "       [0, 0, 0, ..., 0, 0, 1],\n",
              "       [0, 0, 0, ..., 1, 1, 0]])"
            ]
          },
          "metadata": {
            "tags": []
          },
          "execution_count": 53
        }
      ]
    },
    {
      "cell_type": "code",
      "metadata": {
        "id": "DZMt4zCM1dn9",
        "colab": {
          "base_uri": "https://localhost:8080/"
        },
        "outputId": "d4961b6b-4902-4204-f280-aca22f27a036"
      },
      "source": [
        "y_test"
      ],
      "execution_count": 54,
      "outputs": [
        {
          "output_type": "execute_result",
          "data": {
            "text/plain": [
              "array([[0, 0, 1, ..., 0, 0, 1],\n",
              "       [0, 0, 0, ..., 0, 0, 1],\n",
              "       [0, 0, 0, ..., 0, 1, 1],\n",
              "       ...,\n",
              "       [0, 0, 0, ..., 0, 1, 1],\n",
              "       [0, 0, 0, ..., 1, 0, 0],\n",
              "       [0, 0, 0, ..., 1, 1, 0]])"
            ]
          },
          "metadata": {
            "tags": []
          },
          "execution_count": 54
        }
      ]
    },
    {
      "cell_type": "markdown",
      "metadata": {
        "id": "mcNZRqM0jBZv"
      },
      "source": [
        "# Accuracy"
      ]
    },
    {
      "cell_type": "code",
      "metadata": {
        "id": "DHhpkAtx1gLX"
      },
      "source": [
        "from sklearn.metrics import accuracy_score\r\n",
        "from sklearn.metrics import f1_score\r\n",
        "from sklearn.metrics import average_precision_score\r\n",
        "from sklearn.metrics import recall_score\r\n",
        "\r\n",
        "def display_metrics_micro(Ytest, Ypred):\r\n",
        "    print('Accuracy score: ', accuracy_score(Ytest, Ypred))\r\n",
        "    print('F1 score: Micro', f1_score(Ytest, Ypred, average='micro'))\r\n",
        "    print('Average precision score: Micro', average_precision_score(Ytest, Ypred, average='micro'))\r\n",
        "    print('Average recall score: Micro', recall_score(Ytest, Ypred, average='micro'))\r\n",
        "    \r\n",
        "    \r\n",
        "def display_metrics_macro(Ytest, Ypred):\r\n",
        "    print('Accuracy score: ', accuracy_score(Ytest, Ypred))\r\n",
        "    print('F1 score: Macro', f1_score(Ytest, Ypred, average='macro'))\r\n",
        "    print('Average recall score: MAcro', recall_score(Ytest, Ypred, average='macro'))\r\n",
        "    \r\n",
        "def display_metrics_weighted(Ytest, Ypred):\r\n",
        "    print('Accuracy score: ', accuracy_score(Ytest, Ypred))\r\n",
        "    print('F1 score: weighted', f1_score(Ytest, Ypred, average='weighted'))\r\n",
        "    print('Average precision score: weighted', average_precision_score(Ytest, Ypred, average='weighted'))\r\n",
        "    print('Average recall score: weighted', recall_score(Ytest, Ypred, average='weighted'))"
      ],
      "execution_count": 71,
      "outputs": []
    },
    {
      "cell_type": "code",
      "metadata": {
        "id": "lOX51ExX1mpL",
        "colab": {
          "base_uri": "https://localhost:8080/"
        },
        "outputId": "8e2926dc-8aea-485d-fa32-f7cee432864a"
      },
      "source": [
        "display_metrics_micro(y_test,Ypred)"
      ],
      "execution_count": 72,
      "outputs": [
        {
          "output_type": "stream",
          "text": [
            "Accuracy score:  0.1129\n",
            "F1 score: Micro 0.4806744314289057\n",
            "Average precision score: Micro 0.29263809514060374\n",
            "Average recall score: Micro 0.3595625\n"
          ],
          "name": "stdout"
        }
      ]
    },
    {
      "cell_type": "code",
      "metadata": {
        "id": "B5B-N0Rf1osr",
        "colab": {
          "base_uri": "https://localhost:8080/"
        },
        "outputId": "f0b2649e-94e7-4493-e5c4-7b6267f3a71b"
      },
      "source": [
        "display_metrics_macro(y_test,Ypred)"
      ],
      "execution_count": 73,
      "outputs": [
        {
          "output_type": "stream",
          "text": [
            "Accuracy score:  0.1129\n",
            "F1 score: Macro 0.26886505155697116\n",
            "Average recall score: MAcro 0.18098597171117184\n"
          ],
          "name": "stdout"
        }
      ]
    },
    {
      "cell_type": "code",
      "metadata": {
        "id": "ALkLpSSj1rOn",
        "colab": {
          "base_uri": "https://localhost:8080/"
        },
        "outputId": "53f371e3-5678-4b56-8dba-7a6ad4cf1614"
      },
      "source": [
        "display_metrics_weighted(y_test,Ypred)"
      ],
      "execution_count": 74,
      "outputs": [
        {
          "output_type": "stream",
          "text": [
            "Accuracy score:  0.1129\n",
            "F1 score: weighted 0.4385463205889391\n",
            "Average precision score: weighted 0.35461340194198826\n",
            "Average recall score: weighted 0.3595625\n"
          ],
          "name": "stdout"
        }
      ]
    },
    {
      "cell_type": "markdown",
      "metadata": {
        "id": "UjFKoHkbj32S"
      },
      "source": [
        "# Print the true vs predicted labels for any 5 entries from the dataset."
      ]
    },
    {
      "cell_type": "code",
      "metadata": {
        "id": "HdzmyZ8H1uJG"
      },
      "source": [
        "preds = Ypred[150:155]\r\n",
        "actuals = y_test[150:155]"
      ],
      "execution_count": 86,
      "outputs": []
    },
    {
      "cell_type": "code",
      "metadata": {
        "id": "BypRT6bv1xx8",
        "colab": {
          "base_uri": "https://localhost:8080/"
        },
        "outputId": "5861e843-0c54-46f7-fda1-c63264d29488"
      },
      "source": [
        "five_actual = binarizer.inverse_transform(actuals)\r\n",
        "five_actual"
      ],
      "execution_count": 87,
      "outputs": [
        {
          "output_type": "execute_result",
          "data": {
            "text/plain": [
              "[('15', 'Cancer', 'Student', 'female'),\n",
              " ('14', 'Leo', 'Student', 'female'),\n",
              " ('26', 'Advertising', 'Cancer', 'female'),\n",
              " ('27', 'Cancer', 'Student', 'male'),\n",
              " ('26', 'Communications-Media', 'Taurus', 'male')]"
            ]
          },
          "metadata": {
            "tags": []
          },
          "execution_count": 87
        }
      ]
    },
    {
      "cell_type": "code",
      "metadata": {
        "id": "LeYU7_X71z7c",
        "colab": {
          "base_uri": "https://localhost:8080/"
        },
        "outputId": "973ede99-8c07-486c-9f84-e0d92b999099"
      },
      "source": [
        "five_pred = binarizer.inverse_transform(preds)\r\n",
        "five_pred"
      ],
      "execution_count": 88,
      "outputs": [
        {
          "output_type": "execute_result",
          "data": {
            "text/plain": [
              "[('15', 'Cancer', 'Student', 'female'),\n",
              " ('14', 'Leo', 'Student', 'female'),\n",
              " ('female',),\n",
              " ('female', 'indUnk'),\n",
              " ('male',)]"
            ]
          },
          "metadata": {
            "tags": []
          },
          "execution_count": 88
        }
      ]
    },
    {
      "cell_type": "code",
      "metadata": {
        "id": "nQy53PSF12c-",
        "colab": {
          "base_uri": "https://localhost:8080/"
        },
        "outputId": "865efb31-58c0-4ae2-c244-f1923172a5da"
      },
      "source": [
        "print(binarizer.inverse_transform(Ypred)[100])\r\n",
        "print(binarizer.inverse_transform(y_test)[100])"
      ],
      "execution_count": 89,
      "outputs": [
        {
          "output_type": "stream",
          "text": [
            "('13', 'Student', 'Virgo', 'male')\n",
            "('13', 'Student', 'Virgo', 'male')\n"
          ],
          "name": "stdout"
        }
      ]
    },
    {
      "cell_type": "code",
      "metadata": {
        "id": "AEtRyJW215RU",
        "colab": {
          "base_uri": "https://localhost:8080/"
        },
        "outputId": "9175080c-79be-4518-ee33-bc017a31eb55"
      },
      "source": [
        "print(binarizer.inverse_transform(Ypred)[224])\r\n",
        "print(binarizer.inverse_transform(y_test)[224])"
      ],
      "execution_count": 92,
      "outputs": [
        {
          "output_type": "stream",
          "text": [
            "('indUnk', 'male')\n",
            "('26', 'Aquarius', 'indUnk', 'male')\n"
          ],
          "name": "stdout"
        }
      ]
    },
    {
      "cell_type": "code",
      "metadata": {
        "id": "-LfCgUh4170W",
        "colab": {
          "base_uri": "https://localhost:8080/"
        },
        "outputId": "879062b6-ea49-4974-ecfc-200a58946a0f"
      },
      "source": [
        "print(binarizer.inverse_transform(Ypred)[399])\r\n",
        "print(binarizer.inverse_transform(y_test)[399])"
      ],
      "execution_count": 93,
      "outputs": [
        {
          "output_type": "stream",
          "text": [
            "('23', 'Pisces', 'indUnk', 'male')\n",
            "('23', 'Pisces', 'indUnk', 'male')\n"
          ],
          "name": "stdout"
        }
      ]
    },
    {
      "cell_type": "code",
      "metadata": {
        "id": "kUQAKVHK19kY",
        "colab": {
          "base_uri": "https://localhost:8080/"
        },
        "outputId": "a0277b86-6034-4089-b577-c12d4b4da38a"
      },
      "source": [
        "print(binarizer.inverse_transform(Ypred)[1499])\r\n",
        "print(binarizer.inverse_transform(y_test)[1499])"
      ],
      "execution_count": 94,
      "outputs": [
        {
          "output_type": "stream",
          "text": [
            "('indUnk', 'male')\n",
            "('15', 'Leo', 'indUnk', 'male')\n"
          ],
          "name": "stdout"
        }
      ]
    },
    {
      "cell_type": "code",
      "metadata": {
        "colab": {
          "base_uri": "https://localhost:8080/"
        },
        "id": "7iU3EO31jJSy",
        "outputId": "6128b563-6d24-40b8-aa1e-34b31348d061"
      },
      "source": [
        "print(binarizer.inverse_transform(Ypred)[15499])\r\n",
        "print(binarizer.inverse_transform(y_test)[15499])"
      ],
      "execution_count": 95,
      "outputs": [
        {
          "output_type": "stream",
          "text": [
            "('16', 'Gemini', 'Student', 'male')\n",
            "('16', 'Gemini', 'Student', 'male')\n"
          ],
          "name": "stdout"
        }
      ]
    },
    {
      "cell_type": "code",
      "metadata": {
        "id": "xTbCx0H72DJC",
        "colab": {
          "base_uri": "https://localhost:8080/"
        },
        "outputId": "23e1bccb-b621-4794-a7a6-be523f166383"
      },
      "source": [
        "import random\r\n",
        "j=[]\r\n",
        "for i in range(5):\r\n",
        "    j.append(random.randint(300,len(Ypred)))\r\n",
        "   \r\n",
        "print(j)\r\n",
        "\r\n",
        "for k in j:    \r\n",
        "    print(binarizer.inverse_transform(Ypred)[k])\r\n",
        "    print(binarizer.inverse_transform(y_test)[k])\r\n",
        "    "
      ],
      "execution_count": 70,
      "outputs": [
        {
          "output_type": "stream",
          "text": [
            "[8040, 16081, 10489, 15720, 13921]\n",
            "('male',)\n",
            "('26', 'Aquarius', 'Science', 'male')\n",
            "('24', 'Aries', 'female', 'indUnk')\n",
            "('24', 'Aries', 'female', 'indUnk')\n",
            "('34', 'Sagittarius', 'female', 'indUnk')\n",
            "('34', 'Sagittarius', 'female', 'indUnk')\n",
            "('female',)\n",
            "('24', 'Scorpio', 'female', 'indUnk')\n",
            "('indUnk', 'male')\n",
            "('16', 'Aries', 'Student', 'female')\n"
          ],
          "name": "stdout"
        }
      ]
    },
    {
      "cell_type": "code",
      "metadata": {
        "id": "SxXcyz412J91",
        "colab": {
          "base_uri": "https://localhost:8080/"
        },
        "outputId": "1579a8da-e11f-4498-84fc-d08591570ba5"
      },
      "source": [
        "Ypred_inversed = binarizer.inverse_transform(Ypred)\r\n",
        "y_test_inversed = binarizer.inverse_transform(y_test)\r\n",
        "for i in range(5):\r\n",
        "    print('Text:\\t{}\\nTrue labels:\\t{}\\nPredicted labels:\\t{}\\n\\n'.format(\r\n",
        "        X_test_ct[i],\r\n",
        "        ','.join(y_test_inversed[i]),\r\n",
        "        ','.join(Ypred_inversed[i])\r\n",
        "    ))"
      ],
      "execution_count": 67,
      "outputs": [
        {
          "output_type": "stream",
          "text": [
            "Text:\t  (0, 6361)\t1\n",
            "  (0, 6756)\t1\n",
            "  (0, 37228)\t1\n",
            "  (0, 42019)\t1\n",
            "  (0, 42190)\t1\n",
            "  (0, 119102)\t1\n",
            "  (0, 119310)\t1\n",
            "  (0, 138443)\t2\n",
            "  (0, 138460)\t2\n",
            "  (0, 163475)\t1\n",
            "  (0, 208387)\t1\n",
            "  (0, 208690)\t1\n",
            "  (0, 242406)\t1\n",
            "  (0, 244640)\t1\n",
            "  (0, 315551)\t1\n",
            "  (0, 316390)\t1\n",
            "  (0, 344856)\t2\n",
            "  (0, 345459)\t1\n",
            "  (0, 346132)\t1\n",
            "  (0, 355095)\t1\n",
            "  (0, 371990)\t1\n",
            "  (0, 372248)\t1\n",
            "  (0, 373895)\t1\n",
            "  (0, 379626)\t1\n",
            "  (0, 379811)\t1\n",
            "  :\t:\n",
            "  (0, 4171510)\t1\n",
            "  (0, 4184415)\t2\n",
            "  (0, 4187067)\t1\n",
            "  (0, 4201998)\t1\n",
            "  (0, 4202040)\t1\n",
            "  (0, 4205998)\t1\n",
            "  (0, 4208203)\t1\n",
            "  (0, 4208534)\t1\n",
            "  (0, 4209949)\t1\n",
            "  (0, 4210402)\t1\n",
            "  (0, 4210455)\t1\n",
            "  (0, 4240280)\t1\n",
            "  (0, 4241389)\t1\n",
            "  (0, 4243562)\t1\n",
            "  (0, 4244139)\t1\n",
            "  (0, 4253811)\t1\n",
            "  (0, 4254005)\t1\n",
            "  (0, 4333296)\t2\n",
            "  (0, 4347608)\t1\n",
            "  (0, 4351224)\t1\n",
            "  (0, 4351796)\t1\n",
            "  (0, 4379947)\t4\n",
            "  (0, 4382048)\t1\n",
            "  (0, 4382051)\t1\n",
            "  (0, 4382611)\t1\n",
            "True labels:\t15,Leo,Student,male\n",
            "Predicted labels:\t15,Leo,Student,male\n",
            "\n",
            "\n",
            "Text:\t  (0, 359046)\t4\n",
            "  (0, 360588)\t2\n",
            "  (0, 361957)\t1\n",
            "  (0, 412963)\t1\n",
            "  (0, 413726)\t1\n",
            "  (0, 645215)\t1\n",
            "  (0, 645817)\t1\n",
            "  (0, 671149)\t1\n",
            "  (0, 858029)\t1\n",
            "  (0, 858265)\t1\n",
            "  (0, 866637)\t1\n",
            "  (0, 867121)\t1\n",
            "  (0, 878772)\t1\n",
            "  (0, 959316)\t1\n",
            "  (0, 1100808)\t1\n",
            "  (0, 1101140)\t1\n",
            "  (0, 1110148)\t6\n",
            "  (0, 1111509)\t1\n",
            "  (0, 1112209)\t1\n",
            "  (0, 1112393)\t1\n",
            "  (0, 1112461)\t1\n",
            "  (0, 1113414)\t1\n",
            "  (0, 1114116)\t1\n",
            "  (0, 1173076)\t1\n",
            "  (0, 1173221)\t1\n",
            "  :\t:\n",
            "  (0, 3823472)\t1\n",
            "  (0, 3856973)\t1\n",
            "  (0, 3865523)\t1\n",
            "  (0, 3869089)\t1\n",
            "  (0, 3871125)\t1\n",
            "  (0, 3873596)\t1\n",
            "  (0, 3886981)\t1\n",
            "  (0, 3888686)\t1\n",
            "  (0, 3908480)\t2\n",
            "  (0, 3916093)\t1\n",
            "  (0, 4058337)\t1\n",
            "  (0, 4060009)\t1\n",
            "  (0, 4168000)\t1\n",
            "  (0, 4169933)\t1\n",
            "  (0, 4170733)\t1\n",
            "  (0, 4172011)\t1\n",
            "  (0, 4189893)\t1\n",
            "  (0, 4320359)\t1\n",
            "  (0, 4324165)\t1\n",
            "  (0, 4347608)\t1\n",
            "  (0, 4348091)\t1\n",
            "  (0, 4359992)\t1\n",
            "  (0, 4388146)\t1\n",
            "  (0, 4390473)\t1\n",
            "  (0, 4390807)\t1\n",
            "True labels:\t16,Cancer,Student,male\n",
            "Predicted labels:\tfemale\n",
            "\n",
            "\n",
            "Text:\t  (0, 59902)\t1\n",
            "  (0, 61302)\t1\n",
            "  (0, 666427)\t1\n",
            "  (0, 1840056)\t1\n",
            "  (0, 1840083)\t1\n",
            "  (0, 1841821)\t1\n",
            "  (0, 1843181)\t1\n",
            "  (0, 1866152)\t1\n",
            "  (0, 2032060)\t1\n",
            "  (0, 2033117)\t1\n",
            "  (0, 2712941)\t1\n",
            "  (0, 2715891)\t1\n",
            "  (0, 2817525)\t1\n",
            "  (0, 2818345)\t1\n",
            "  (0, 3832092)\t1\n",
            "  (0, 4164702)\t1\n",
            "  (0, 4376942)\t1\n",
            "  (0, 4378016)\t1\n",
            "True labels:\t16,Aquarius,indUnk,male\n",
            "Predicted labels:\tindUnk,male\n",
            "\n",
            "\n",
            "Text:\t  (0, 109527)\t1\n",
            "  (0, 109814)\t1\n",
            "  (0, 254850)\t1\n",
            "  (0, 464619)\t1\n",
            "  (0, 465156)\t1\n",
            "  (0, 507842)\t1\n",
            "  (0, 508197)\t1\n",
            "  (0, 578038)\t1\n",
            "  (0, 579112)\t1\n",
            "  (0, 1055509)\t1\n",
            "  (0, 1347600)\t1\n",
            "  (0, 1347602)\t1\n",
            "  (0, 1443049)\t1\n",
            "  (0, 1508631)\t1\n",
            "  (0, 1509887)\t1\n",
            "  (0, 1516729)\t1\n",
            "  (0, 1516802)\t1\n",
            "  (0, 1598892)\t1\n",
            "  (0, 1603390)\t1\n",
            "  (0, 1610984)\t2\n",
            "  (0, 1614372)\t1\n",
            "  (0, 1617514)\t1\n",
            "  (0, 1725170)\t1\n",
            "  (0, 1726956)\t1\n",
            "  (0, 1732752)\t1\n",
            "  :\t:\n",
            "  (0, 2903924)\t1\n",
            "  (0, 2905495)\t1\n",
            "  (0, 3002678)\t1\n",
            "  (0, 3003645)\t1\n",
            "  (0, 3117010)\t1\n",
            "  (0, 3118659)\t1\n",
            "  (0, 3124174)\t1\n",
            "  (0, 3124869)\t1\n",
            "  (0, 3133920)\t1\n",
            "  (0, 3138218)\t1\n",
            "  (0, 3294469)\t1\n",
            "  (0, 3295242)\t1\n",
            "  (0, 3325688)\t1\n",
            "  (0, 3326597)\t1\n",
            "  (0, 3335181)\t1\n",
            "  (0, 3336685)\t1\n",
            "  (0, 3460233)\t1\n",
            "  (0, 3460518)\t1\n",
            "  (0, 3558354)\t1\n",
            "  (0, 3558474)\t1\n",
            "  (0, 3700485)\t1\n",
            "  (0, 3870320)\t1\n",
            "  (0, 4253811)\t2\n",
            "  (0, 4255538)\t1\n",
            "  (0, 4258972)\t1\n",
            "True labels:\t17,Military,Virgo,male\n",
            "Predicted labels:\t17,Student,male\n",
            "\n",
            "\n",
            "Text:\t  (0, 121811)\t1\n",
            "  (0, 183456)\t1\n",
            "  (0, 294053)\t1\n",
            "  (0, 294371)\t1\n",
            "  (0, 359046)\t1\n",
            "  (0, 359820)\t1\n",
            "  (0, 430986)\t2\n",
            "  (0, 432961)\t1\n",
            "  (0, 476441)\t1\n",
            "  (0, 479195)\t1\n",
            "  (0, 612629)\t1\n",
            "  (0, 1050846)\t1\n",
            "  (0, 1053068)\t1\n",
            "  (0, 1725170)\t1\n",
            "  (0, 1727787)\t1\n",
            "  (0, 1775696)\t1\n",
            "  (0, 1859139)\t1\n",
            "  (0, 1879866)\t2\n",
            "  (0, 1880782)\t1\n",
            "  (0, 1881833)\t1\n",
            "  (0, 1989288)\t1\n",
            "  (0, 2041936)\t1\n",
            "  (0, 2092148)\t1\n",
            "  (0, 2172719)\t1\n",
            "  (0, 2246148)\t1\n",
            "  :\t:\n",
            "  (0, 2862022)\t1\n",
            "  (0, 3133920)\t2\n",
            "  (0, 3136314)\t1\n",
            "  (0, 3137996)\t1\n",
            "  (0, 3184526)\t1\n",
            "  (0, 3231897)\t1\n",
            "  (0, 3231899)\t1\n",
            "  (0, 3647454)\t1\n",
            "  (0, 3647581)\t1\n",
            "  (0, 3658976)\t1\n",
            "  (0, 3659090)\t1\n",
            "  (0, 3783037)\t1\n",
            "  (0, 3783305)\t1\n",
            "  (0, 3793239)\t1\n",
            "  (0, 3793626)\t1\n",
            "  (0, 3871125)\t1\n",
            "  (0, 3874799)\t1\n",
            "  (0, 3908480)\t1\n",
            "  (0, 3912521)\t1\n",
            "  (0, 3987787)\t1\n",
            "  (0, 4034860)\t1\n",
            "  (0, 4342459)\t1\n",
            "  (0, 4343189)\t1\n",
            "  (0, 4345589)\t1\n",
            "  (0, 4345679)\t1\n",
            "True labels:\t16,Sagittarius,Student,female\n",
            "Predicted labels:\t16,Sagittarius,Student,female\n",
            "\n",
            "\n"
          ],
          "name": "stdout"
        }
      ]
    },
    {
      "cell_type": "code",
      "metadata": {
        "id": "Vh_TTZ-U2N1g"
      },
      "source": [
        ""
      ],
      "execution_count": null,
      "outputs": []
    }
  ]
}