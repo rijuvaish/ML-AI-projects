{
  "nbformat": 4,
  "nbformat_minor": 0,
  "metadata": {
    "colab": {
      "name": "CNNs_R8_CVwithCNN_ProjectNo2_German Traffic Signs.ipynb",
      "provenance": [],
      "collapsed_sections": []
    },
    "kernelspec": {
      "name": "python3",
      "display_name": "Python 3"
    },
    "accelerator": "GPU"
  },
  "cells": [
    {
      "cell_type": "markdown",
      "metadata": {
        "id": "O9jAqShELHZI"
      },
      "source": [
        "<img src=\"http://drive.google.com/uc?export=view&id=1tpOCamr9aWz817atPnyXus8w5gJ3mIts\" width=500px>\n",
        "\n",
        "Proprietary content. © Great Learning. All Rights Reserved. Unauthorized use or distribution prohibited."
      ]
    },
    {
      "cell_type": "markdown",
      "metadata": {
        "id": "SRkFT8HtCZHS"
      },
      "source": [
        "# German Traffic Sign Recognition\n",
        "Multi-class, single-image classification"
      ]
    },
    {
      "cell_type": "markdown",
      "metadata": {
        "id": "SJWdbMALTcGJ"
      },
      "source": [
        "### Dataset\n",
        "The German Traffic Sign Benchmark is a multi-class, single-image classification challenge held at the International Joint Conference on Neural Networks (IJCNN) 2011. They cordially invite researchers from relevant fields to participate: The competition is designed to allow for participation without special domain knowledge. Their benchmark has the following properties:\n",
        "\n",
        "- Single-image, multi-class classification problem\n",
        "- More than 40 classes\n",
        "- More than 50,000 images in total\n",
        "- Large, lifelike database"
      ]
    },
    {
      "cell_type": "markdown",
      "metadata": {
        "id": "hRhJulWyIGMN"
      },
      "source": [
        "#### Notes\n",
        "- You can check “Meta” folder for getting information about the classes.\n",
        "- If the model is taking too much time to get trained then you can reduce the number of classes. There are around 43 classes in the dataset, model should be trained on a minimum of 15 classes."
      ]
    },
    {
      "cell_type": "code",
      "metadata": {
        "id": "qcDxvBryzBhp",
        "colab": {
          "base_uri": "https://localhost:8080/"
        },
        "outputId": "25852c0b-aa4c-4a0b-e132-79c01d36a178"
      },
      "source": [
        "!pip install patool"
      ],
      "execution_count": 11,
      "outputs": [
        {
          "output_type": "stream",
          "text": [
            "Collecting patool\n",
            "\u001b[?25l  Downloading https://files.pythonhosted.org/packages/43/94/52243ddff508780dd2d8110964320ab4851134a55ab102285b46e740f76a/patool-1.12-py2.py3-none-any.whl (77kB)\n",
            "\r\u001b[K     |████▎                           | 10kB 28.2MB/s eta 0:00:01\r\u001b[K     |████████▌                       | 20kB 32.6MB/s eta 0:00:01\r\u001b[K     |████████████▊                   | 30kB 21.1MB/s eta 0:00:01\r\u001b[K     |█████████████████               | 40kB 19.2MB/s eta 0:00:01\r\u001b[K     |█████████████████████▏          | 51kB 20.5MB/s eta 0:00:01\r\u001b[K     |█████████████████████████▍      | 61kB 15.6MB/s eta 0:00:01\r\u001b[K     |█████████████████████████████▋  | 71kB 16.2MB/s eta 0:00:01\r\u001b[K     |████████████████████████████████| 81kB 8.5MB/s \n",
            "\u001b[?25hInstalling collected packages: patool\n",
            "Successfully installed patool-1.12\n"
          ],
          "name": "stdout"
        }
      ]
    },
    {
      "cell_type": "code",
      "metadata": {
        "colab": {
          "base_uri": "https://localhost:8080/"
        },
        "id": "epqxcKZIoNvO",
        "outputId": "218b2023-45cf-47ce-b04e-b2059909ef31"
      },
      "source": [
        "from google.colab import drive\r\n",
        "drive.mount('/content/gdrive')"
      ],
      "execution_count": 16,
      "outputs": [
        {
          "output_type": "stream",
          "text": [
            "Drive already mounted at /content/gdrive; to attempt to forcibly remount, call drive.mount(\"/content/gdrive\", force_remount=True).\n"
          ],
          "name": "stdout"
        }
      ]
    },
    {
      "cell_type": "code",
      "metadata": {
        "id": "hI8GnsiKp3RW",
        "colab": {
          "base_uri": "https://localhost:8080/",
          "height": 105
        },
        "outputId": "5e886627-51a4-40b6-f45c-263fdfccca62"
      },
      "source": [
        "import patoolib\r\n",
        "patoolib.extract_archive(\"/content/gdrive/MyDrive/Data - German Traffic Sign Recognition.rar\", outdir=\"/content/gdrive/MyDrive/German_data\")"
      ],
      "execution_count": 15,
      "outputs": [
        {
          "output_type": "stream",
          "text": [
            "patool: Extracting /content/gdrive/MyDrive/Data - German Traffic Sign Recognition.rar ...\n",
            "patool: running /usr/bin/unrar x -- \"/content/gdrive/MyDrive/Data - German Traffic Sign Recognition.rar\"\n",
            "patool:     with cwd='/content/gdrive/MyDrive/German_data'\n",
            "patool: ... /content/gdrive/MyDrive/Data - German Traffic Sign Recognition.rar extracted to `/content/gdrive/MyDrive/German_data'.\n"
          ],
          "name": "stdout"
        },
        {
          "output_type": "execute_result",
          "data": {
            "application/vnd.google.colaboratory.intrinsic+json": {
              "type": "string"
            },
            "text/plain": [
              "'/content/gdrive/MyDrive/German_data'"
            ]
          },
          "metadata": {
            "tags": []
          },
          "execution_count": 15
        }
      ]
    },
    {
      "cell_type": "code",
      "metadata": {
        "id": "r4AlwvBBq0Ul"
      },
      "source": [
        "import tensorflow as tf\r\n",
        "import matplotlib.pyplot as plt\r\n",
        "from keras.models import Sequential\r\n",
        "from keras.layers import Conv2D,MaxPool2D,Dense,Dropout,Activation,Flatten,MaxPooling2D,BatchNormalization,GlobalMaxPool2D\r\n",
        "from keras.preprocessing.image import ImageDataGenerator,img_to_array, array_to_img, load_img\r\n",
        "import os\r\n",
        "import numpy as np\r\n",
        " "
      ],
      "execution_count": 46,
      "outputs": []
    },
    {
      "cell_type": "code",
      "metadata": {
        "id": "ksxvPSABEwJ8"
      },
      "source": [
        ""
      ],
      "execution_count": 46,
      "outputs": []
    },
    {
      "cell_type": "markdown",
      "metadata": {
        "id": "qC37j3FUDVYd"
      },
      "source": [
        "### Initialize ImageDataGenerator (5 Marks)\n",
        "- Rescale the images\n",
        "- Specify value for validation_split & get 75% data in training and 25% data in validation"
      ]
    },
    {
      "cell_type": "code",
      "metadata": {
        "id": "OakETLlCBwy1"
      },
      "source": [
        "image_datagenerator = ImageDataGenerator(\r\n",
        "    rescale=1./255,\r\n",
        "    rotation_range=20,\r\n",
        "    width_shift_range=0.2,\r\n",
        "    height_shift_range=0.2,\r\n",
        "    validation_split=0.25\r\n",
        ")"
      ],
      "execution_count": 47,
      "outputs": []
    },
    {
      "cell_type": "markdown",
      "metadata": {
        "id": "58e4ODapEVdx"
      },
      "source": [
        "### Get training data from ImageDataGenerator (5 Marks)\n",
        "- Give directory path\n",
        "- Give target size\n",
        "- Give batch_size\n",
        "- Specify classes, if you wish to use less number of classes you need to give class names in a list (Atleast 15 classes should be there)\n",
        "- Specify class_mode\n",
        "- Specify color_mode\n",
        "- Specify subset\n",
        "\n",
        "You can get details here\n",
        "https://www.tensorflow.org/api_docs/python/tf/keras/preprocessing/image/ImageDataGenerator"
      ]
    },
    {
      "cell_type": "code",
      "metadata": {
        "id": "GSfT2cB4COgC"
      },
      "source": [
        "DIR_PATH='/content/gdrive/MyDrive/German_data/Data - German Traffic Sign Recognition/Data - German Traffic Sign Recognition/Train'"
      ],
      "execution_count": 48,
      "outputs": []
    },
    {
      "cell_type": "code",
      "metadata": {
        "colab": {
          "base_uri": "https://localhost:8080/"
        },
        "id": "vF7TAU-HFsg1",
        "outputId": "4fa5a9d0-1cc9-4c3a-d996-4e52fad40e68"
      },
      "source": [
        "# Number of Classes\r\n",
        "NUM_CATEGORIES = len(os.listdir(DIR_PATH))\r\n",
        "NUM_CATEGORIES"
      ],
      "execution_count": 49,
      "outputs": [
        {
          "output_type": "execute_result",
          "data": {
            "text/plain": [
              "33"
            ]
          },
          "metadata": {
            "tags": []
          },
          "execution_count": 49
        }
      ]
    },
    {
      "cell_type": "code",
      "metadata": {
        "id": "T5ZGZGSF5s74"
      },
      "source": [
        "image_size=30\r\n",
        "batch_size=64\r\n"
      ],
      "execution_count": 50,
      "outputs": []
    },
    {
      "cell_type": "code",
      "metadata": {
        "colab": {
          "base_uri": "https://localhost:8080/"
        },
        "id": "sw3FDnZ_5tGn",
        "outputId": "7c4566cc-ce38-48c5-f7d5-29592629c86f"
      },
      "source": [
        "#Build training generator. \r\n",
        "train_generator = image_datagenerator.flow_from_directory(DIR_PATH,\r\n",
        "                                                    target_size=(image_size, image_size),\r\n",
        "                                                    subset='training',\r\n",
        "                                                    batch_size=batch_size,\r\n",
        "                                                    class_mode='categorical',\r\n",
        "                                                    color_mode='rgb',\r\n",
        "                                                    shuffle=True,\r\n",
        "                                                    seed= 9\r\n",
        "                                                )"
      ],
      "execution_count": 51,
      "outputs": [
        {
          "output_type": "stream",
          "text": [
            "Found 22124 images belonging to 33 classes.\n"
          ],
          "name": "stdout"
        }
      ]
    },
    {
      "cell_type": "markdown",
      "metadata": {
        "id": "GzYNcoV9Gawj"
      },
      "source": [
        "### Get validation data from ImageDataGenerator (5 Marks)\n",
        "- Give directory path\n",
        "- Give target size\n",
        "- Give batch_size\n",
        "- Specify classes, if you wish to use less number of classes you need to give class names in a list (Atleast 15 classes should be there)\n",
        "- Specify class_mode\n",
        "- Specify color_mode\n",
        "- Specify subset\n",
        "\n",
        "You can get details here\n",
        "https://www.tensorflow.org/api_docs/python/tf/keras/preprocessing/image/ImageDataGenerator"
      ]
    },
    {
      "cell_type": "code",
      "metadata": {
        "colab": {
          "base_uri": "https://localhost:8080/"
        },
        "id": "Z2i88WCD5W4r",
        "outputId": "7fb49245-dd15-42d3-a767-664745265e48"
      },
      "source": [
        "\r\n",
        "\r\n",
        "#Build validation generator\r\n",
        "val_generator = image_datagenerator.flow_from_directory(DIR_PATH,\r\n",
        "                                                   target_size=(image_size, image_size),                                                   \r\n",
        "                                                   subset='validation',\r\n",
        "                                                   batch_size=batch_size,\r\n",
        "                                                   class_mode='categorical',\r\n",
        "                                                   color_mode='rgb',\r\n",
        "                                                   shuffle=True,\r\n",
        "                                                   seed= 9\r\n",
        "                                                )"
      ],
      "execution_count": 52,
      "outputs": [
        {
          "output_type": "stream",
          "text": [
            "Found 7364 images belonging to 33 classes.\n"
          ],
          "name": "stdout"
        }
      ]
    },
    {
      "cell_type": "markdown",
      "metadata": {
        "id": "S2fXxJz1I_SV"
      },
      "source": [
        "### Define model (5 Marks)\n",
        "- Initialize a Sequential Model\n",
        "- Add Convolution, Maxpool, Dropout, Flatten & Dense layers according to your model architecture"
      ]
    },
    {
      "cell_type": "code",
      "metadata": {
        "id": "Fns3rEJ-DHQq"
      },
      "source": [
        "tf.keras.backend.clear_session()\r\n",
        "model=Sequential()\r\n",
        "# First Convolutional Layer\r\n",
        "model.add(Conv2D(filters=32, kernel_size=(5,5), activation='relu', input_shape=(image_size,image_size,3)))\r\n",
        "\r\n",
        "\r\n",
        "# Second Convolutional Layer\r\n",
        "model.add(Conv2D(filters=32, kernel_size=(5,5), activation='relu'))\r\n",
        "model.add(MaxPool2D(pool_size=(2, 2)))\r\n",
        "model.add(Dropout(rate=0.25))\r\n",
        "\r\n",
        "# Third Convolutional Layer\r\n",
        "model.add(Conv2D(filters=64, kernel_size=(3,3), activation='relu'))\r\n",
        "#Fourth Convolution layer\r\n",
        "model.add(Conv2D(filters=64,kernel_size=(3,3),activation='relu'))\r\n",
        "model.add(MaxPool2D(pool_size=(2, 2)))\r\n",
        "model.add(Dropout(rate=0.25))\r\n"
      ],
      "execution_count": 53,
      "outputs": []
    },
    {
      "cell_type": "code",
      "metadata": {
        "colab": {
          "base_uri": "https://localhost:8080/"
        },
        "id": "-9af3EqM2LMw",
        "outputId": "fa9f7a4a-91ff-4cd9-cbef-3bbc57509a30"
      },
      "source": [
        "model.summary()"
      ],
      "execution_count": 54,
      "outputs": [
        {
          "output_type": "stream",
          "text": [
            "Model: \"sequential\"\n",
            "_________________________________________________________________\n",
            "Layer (type)                 Output Shape              Param #   \n",
            "=================================================================\n",
            "conv2d (Conv2D)              (None, 26, 26, 32)        2432      \n",
            "_________________________________________________________________\n",
            "conv2d_1 (Conv2D)            (None, 22, 22, 32)        25632     \n",
            "_________________________________________________________________\n",
            "max_pooling2d (MaxPooling2D) (None, 11, 11, 32)        0         \n",
            "_________________________________________________________________\n",
            "dropout (Dropout)            (None, 11, 11, 32)        0         \n",
            "_________________________________________________________________\n",
            "conv2d_2 (Conv2D)            (None, 9, 9, 64)          18496     \n",
            "_________________________________________________________________\n",
            "conv2d_3 (Conv2D)            (None, 7, 7, 64)          36928     \n",
            "_________________________________________________________________\n",
            "max_pooling2d_1 (MaxPooling2 (None, 3, 3, 64)          0         \n",
            "_________________________________________________________________\n",
            "dropout_1 (Dropout)          (None, 3, 3, 64)          0         \n",
            "=================================================================\n",
            "Total params: 83,488\n",
            "Trainable params: 83,488\n",
            "Non-trainable params: 0\n",
            "_________________________________________________________________\n"
          ],
          "name": "stdout"
        }
      ]
    },
    {
      "cell_type": "code",
      "metadata": {
        "colab": {
          "base_uri": "https://localhost:8080/"
        },
        "id": "d32-RAlTGfOy",
        "outputId": "c7f118d7-7922-4582-a6ed-43ffac320f47"
      },
      "source": [
        "# Flattening the layer and adding Dense Layer\r\n",
        "model.add(Flatten())\r\n",
        "model.add(Dense(units=256, activation='relu'))\r\n",
        "model.add(Dense(NUM_CATEGORIES, activation='softmax'))\r\n",
        "\r\n",
        "model.summary()"
      ],
      "execution_count": 55,
      "outputs": [
        {
          "output_type": "stream",
          "text": [
            "Model: \"sequential\"\n",
            "_________________________________________________________________\n",
            "Layer (type)                 Output Shape              Param #   \n",
            "=================================================================\n",
            "conv2d (Conv2D)              (None, 26, 26, 32)        2432      \n",
            "_________________________________________________________________\n",
            "conv2d_1 (Conv2D)            (None, 22, 22, 32)        25632     \n",
            "_________________________________________________________________\n",
            "max_pooling2d (MaxPooling2D) (None, 11, 11, 32)        0         \n",
            "_________________________________________________________________\n",
            "dropout (Dropout)            (None, 11, 11, 32)        0         \n",
            "_________________________________________________________________\n",
            "conv2d_2 (Conv2D)            (None, 9, 9, 64)          18496     \n",
            "_________________________________________________________________\n",
            "conv2d_3 (Conv2D)            (None, 7, 7, 64)          36928     \n",
            "_________________________________________________________________\n",
            "max_pooling2d_1 (MaxPooling2 (None, 3, 3, 64)          0         \n",
            "_________________________________________________________________\n",
            "dropout_1 (Dropout)          (None, 3, 3, 64)          0         \n",
            "_________________________________________________________________\n",
            "flatten (Flatten)            (None, 576)               0         \n",
            "_________________________________________________________________\n",
            "dense (Dense)                (None, 256)               147712    \n",
            "_________________________________________________________________\n",
            "dense_1 (Dense)              (None, 33)                8481      \n",
            "=================================================================\n",
            "Total params: 239,681\n",
            "Trainable params: 239,681\n",
            "Non-trainable params: 0\n",
            "_________________________________________________________________\n"
          ],
          "name": "stdout"
        }
      ]
    },
    {
      "cell_type": "markdown",
      "metadata": {
        "id": "lRs36YJgJvI0"
      },
      "source": [
        "### Compile the model (2 Marks)\n",
        "- Specify optimizer, loss & metrics"
      ]
    },
    {
      "cell_type": "code",
      "metadata": {
        "id": "jvgO3JPvDQpL"
      },
      "source": [
        "model.compile(optimizer='adam', loss='categorical_crossentropy', metrics=['accuracy'])"
      ],
      "execution_count": 56,
      "outputs": []
    },
    {
      "cell_type": "code",
      "metadata": {
        "id": "LL7_ahg-2f_G"
      },
      "source": [
        "model_checkpoint=tf.keras.callbacks.ModelCheckpoint('german-traffic.h5', \r\n",
        "                                                    save_best_only=True, \r\n",
        "                                                    monitor='val_accuracy', \r\n",
        "                                                    mode='max',\r\n",
        "                                                    verbose=1)"
      ],
      "execution_count": 57,
      "outputs": []
    },
    {
      "cell_type": "code",
      "metadata": {
        "id": "W-g0o8A72gT-"
      },
      "source": [
        ""
      ],
      "execution_count": 57,
      "outputs": []
    },
    {
      "cell_type": "markdown",
      "metadata": {
        "id": "U_Q6ihfUJ6Hm"
      },
      "source": [
        "### Get model summary (2 Marks)"
      ]
    },
    {
      "cell_type": "code",
      "metadata": {
        "id": "b3Sxnbo-lhfV",
        "colab": {
          "base_uri": "https://localhost:8080/"
        },
        "outputId": "15d6f50a-142d-4feb-d9c6-72f11cdab824"
      },
      "source": [
        "model.summary()"
      ],
      "execution_count": 58,
      "outputs": [
        {
          "output_type": "stream",
          "text": [
            "Model: \"sequential\"\n",
            "_________________________________________________________________\n",
            "Layer (type)                 Output Shape              Param #   \n",
            "=================================================================\n",
            "conv2d (Conv2D)              (None, 26, 26, 32)        2432      \n",
            "_________________________________________________________________\n",
            "conv2d_1 (Conv2D)            (None, 22, 22, 32)        25632     \n",
            "_________________________________________________________________\n",
            "max_pooling2d (MaxPooling2D) (None, 11, 11, 32)        0         \n",
            "_________________________________________________________________\n",
            "dropout (Dropout)            (None, 11, 11, 32)        0         \n",
            "_________________________________________________________________\n",
            "conv2d_2 (Conv2D)            (None, 9, 9, 64)          18496     \n",
            "_________________________________________________________________\n",
            "conv2d_3 (Conv2D)            (None, 7, 7, 64)          36928     \n",
            "_________________________________________________________________\n",
            "max_pooling2d_1 (MaxPooling2 (None, 3, 3, 64)          0         \n",
            "_________________________________________________________________\n",
            "dropout_1 (Dropout)          (None, 3, 3, 64)          0         \n",
            "_________________________________________________________________\n",
            "flatten (Flatten)            (None, 576)               0         \n",
            "_________________________________________________________________\n",
            "dense (Dense)                (None, 256)               147712    \n",
            "_________________________________________________________________\n",
            "dense_1 (Dense)              (None, 33)                8481      \n",
            "=================================================================\n",
            "Total params: 239,681\n",
            "Trainable params: 239,681\n",
            "Non-trainable params: 0\n",
            "_________________________________________________________________\n"
          ],
          "name": "stdout"
        }
      ]
    },
    {
      "cell_type": "markdown",
      "metadata": {
        "id": "4mK8GNxFJ9vB"
      },
      "source": [
        "### Fit the model (3 Marks)\n",
        "- Specify epochs\n",
        "- Specify batch_size\n",
        "- Give validation_data\n",
        "- Validation accuracy should be more than 90%"
      ]
    },
    {
      "cell_type": "code",
      "metadata": {
        "id": "9SLjprPDDYOs",
        "colab": {
          "base_uri": "https://localhost:8080/"
        },
        "outputId": "eea8c3e8-65e5-4f24-fb5e-80810d229eb3"
      },
      "source": [
        "history = model.fit(train_generator,\r\n",
        "          epochs=50,\r\n",
        "          steps_per_epoch= 22124//batch_size,  #Number of training images//batch_size\r\n",
        "          validation_data=val_generator,\r\n",
        "          validation_steps = 7364//batch_size, #Number of validation images//batch_size\r\n",
        "          callbacks = [model_checkpoint]\r\n",
        ")"
      ],
      "execution_count": 59,
      "outputs": [
        {
          "output_type": "stream",
          "text": [
            "Epoch 1/50\n",
            "345/345 [==============================] - 50s 142ms/step - loss: 3.0491 - accuracy: 0.1270 - val_loss: 2.3736 - val_accuracy: 0.2948\n",
            "\n",
            "Epoch 00001: val_accuracy improved from -inf to 0.29484, saving model to german-traffic.h5\n",
            "Epoch 2/50\n",
            "345/345 [==============================] - 49s 143ms/step - loss: 1.8880 - accuracy: 0.4061 - val_loss: 1.7025 - val_accuracy: 0.4736\n",
            "\n",
            "Epoch 00002: val_accuracy improved from 0.29484 to 0.47364, saving model to german-traffic.h5\n",
            "Epoch 3/50\n",
            "345/345 [==============================] - 50s 145ms/step - loss: 1.2520 - accuracy: 0.5870 - val_loss: 1.4290 - val_accuracy: 0.5761\n",
            "\n",
            "Epoch 00003: val_accuracy improved from 0.47364 to 0.57609, saving model to german-traffic.h5\n",
            "Epoch 4/50\n",
            "345/345 [==============================] - 50s 144ms/step - loss: 0.9294 - accuracy: 0.6946 - val_loss: 1.1342 - val_accuracy: 0.6664\n",
            "\n",
            "Epoch 00004: val_accuracy improved from 0.57609 to 0.66644, saving model to german-traffic.h5\n",
            "Epoch 5/50\n",
            "345/345 [==============================] - 50s 144ms/step - loss: 0.6982 - accuracy: 0.7730 - val_loss: 0.8294 - val_accuracy: 0.7522\n",
            "\n",
            "Epoch 00005: val_accuracy improved from 0.66644 to 0.75217, saving model to german-traffic.h5\n",
            "Epoch 6/50\n",
            "345/345 [==============================] - 50s 145ms/step - loss: 0.5591 - accuracy: 0.8207 - val_loss: 0.6832 - val_accuracy: 0.8033\n",
            "\n",
            "Epoch 00006: val_accuracy improved from 0.75217 to 0.80326, saving model to german-traffic.h5\n",
            "Epoch 7/50\n",
            "345/345 [==============================] - 49s 143ms/step - loss: 0.4337 - accuracy: 0.8666 - val_loss: 0.5406 - val_accuracy: 0.8383\n",
            "\n",
            "Epoch 00007: val_accuracy improved from 0.80326 to 0.83832, saving model to german-traffic.h5\n",
            "Epoch 8/50\n",
            "345/345 [==============================] - 50s 145ms/step - loss: 0.3678 - accuracy: 0.8867 - val_loss: 0.5508 - val_accuracy: 0.8433\n",
            "\n",
            "Epoch 00008: val_accuracy improved from 0.83832 to 0.84334, saving model to german-traffic.h5\n",
            "Epoch 9/50\n",
            "345/345 [==============================] - 50s 146ms/step - loss: 0.3231 - accuracy: 0.8985 - val_loss: 0.4953 - val_accuracy: 0.8624\n",
            "\n",
            "Epoch 00009: val_accuracy improved from 0.84334 to 0.86236, saving model to german-traffic.h5\n",
            "Epoch 10/50\n",
            "345/345 [==============================] - 51s 147ms/step - loss: 0.2644 - accuracy: 0.9167 - val_loss: 0.4751 - val_accuracy: 0.8639\n",
            "\n",
            "Epoch 00010: val_accuracy improved from 0.86236 to 0.86386, saving model to german-traffic.h5\n",
            "Epoch 11/50\n",
            "345/345 [==============================] - 50s 145ms/step - loss: 0.2535 - accuracy: 0.9214 - val_loss: 0.4775 - val_accuracy: 0.8769\n",
            "\n",
            "Epoch 00011: val_accuracy improved from 0.86386 to 0.87690, saving model to german-traffic.h5\n",
            "Epoch 12/50\n",
            "345/345 [==============================] - 49s 143ms/step - loss: 0.2141 - accuracy: 0.9333 - val_loss: 0.5108 - val_accuracy: 0.8702\n",
            "\n",
            "Epoch 00012: val_accuracy did not improve from 0.87690\n",
            "Epoch 13/50\n",
            "345/345 [==============================] - 50s 144ms/step - loss: 0.2056 - accuracy: 0.9345 - val_loss: 0.3843 - val_accuracy: 0.8984\n",
            "\n",
            "Epoch 00013: val_accuracy improved from 0.87690 to 0.89837, saving model to german-traffic.h5\n",
            "Epoch 14/50\n",
            "345/345 [==============================] - 49s 142ms/step - loss: 0.1837 - accuracy: 0.9428 - val_loss: 0.4278 - val_accuracy: 0.8880\n",
            "\n",
            "Epoch 00014: val_accuracy did not improve from 0.89837\n",
            "Epoch 15/50\n",
            "345/345 [==============================] - 50s 145ms/step - loss: 0.1848 - accuracy: 0.9434 - val_loss: 0.4864 - val_accuracy: 0.8788\n",
            "\n",
            "Epoch 00015: val_accuracy did not improve from 0.89837\n",
            "Epoch 16/50\n",
            "345/345 [==============================] - 50s 145ms/step - loss: 0.1722 - accuracy: 0.9442 - val_loss: 0.4645 - val_accuracy: 0.8804\n",
            "\n",
            "Epoch 00016: val_accuracy did not improve from 0.89837\n",
            "Epoch 17/50\n",
            "345/345 [==============================] - 49s 143ms/step - loss: 0.1547 - accuracy: 0.9507 - val_loss: 0.3826 - val_accuracy: 0.9056\n",
            "\n",
            "Epoch 00017: val_accuracy improved from 0.89837 to 0.90557, saving model to german-traffic.h5\n",
            "Epoch 18/50\n",
            "345/345 [==============================] - 49s 142ms/step - loss: 0.1568 - accuracy: 0.9510 - val_loss: 0.3441 - val_accuracy: 0.9159\n",
            "\n",
            "Epoch 00018: val_accuracy improved from 0.90557 to 0.91590, saving model to german-traffic.h5\n",
            "Epoch 19/50\n",
            "345/345 [==============================] - 49s 143ms/step - loss: 0.1432 - accuracy: 0.9548 - val_loss: 0.3434 - val_accuracy: 0.9121\n",
            "\n",
            "Epoch 00019: val_accuracy did not improve from 0.91590\n",
            "Epoch 20/50\n",
            "345/345 [==============================] - 50s 145ms/step - loss: 0.1345 - accuracy: 0.9580 - val_loss: 0.2923 - val_accuracy: 0.9205\n",
            "\n",
            "Epoch 00020: val_accuracy improved from 0.91590 to 0.92052, saving model to german-traffic.h5\n",
            "Epoch 21/50\n",
            "345/345 [==============================] - 50s 146ms/step - loss: 0.1463 - accuracy: 0.9554 - val_loss: 0.3869 - val_accuracy: 0.9099\n",
            "\n",
            "Epoch 00021: val_accuracy did not improve from 0.92052\n",
            "Epoch 22/50\n",
            "345/345 [==============================] - 50s 146ms/step - loss: 0.1370 - accuracy: 0.9592 - val_loss: 0.3648 - val_accuracy: 0.8996\n",
            "\n",
            "Epoch 00022: val_accuracy did not improve from 0.92052\n",
            "Epoch 23/50\n",
            "345/345 [==============================] - 50s 145ms/step - loss: 0.1295 - accuracy: 0.9602 - val_loss: 0.2890 - val_accuracy: 0.9258\n",
            "\n",
            "Epoch 00023: val_accuracy improved from 0.92052 to 0.92582, saving model to german-traffic.h5\n",
            "Epoch 24/50\n",
            "345/345 [==============================] - 49s 143ms/step - loss: 0.1205 - accuracy: 0.9615 - val_loss: 0.3692 - val_accuracy: 0.9155\n",
            "\n",
            "Epoch 00024: val_accuracy did not improve from 0.92582\n",
            "Epoch 25/50\n",
            "345/345 [==============================] - 50s 144ms/step - loss: 0.1284 - accuracy: 0.9601 - val_loss: 0.3333 - val_accuracy: 0.9130\n",
            "\n",
            "Epoch 00025: val_accuracy did not improve from 0.92582\n",
            "Epoch 26/50\n",
            "345/345 [==============================] - 49s 143ms/step - loss: 0.1298 - accuracy: 0.9594 - val_loss: 0.3203 - val_accuracy: 0.9132\n",
            "\n",
            "Epoch 00026: val_accuracy did not improve from 0.92582\n",
            "Epoch 27/50\n",
            "345/345 [==============================] - 51s 147ms/step - loss: 0.1109 - accuracy: 0.9675 - val_loss: 0.3716 - val_accuracy: 0.9182\n",
            "\n",
            "Epoch 00027: val_accuracy did not improve from 0.92582\n",
            "Epoch 28/50\n",
            "345/345 [==============================] - 50s 146ms/step - loss: 0.1088 - accuracy: 0.9644 - val_loss: 0.2822 - val_accuracy: 0.9280\n",
            "\n",
            "Epoch 00028: val_accuracy improved from 0.92582 to 0.92799, saving model to german-traffic.h5\n",
            "Epoch 29/50\n",
            "345/345 [==============================] - 50s 144ms/step - loss: 0.0961 - accuracy: 0.9706 - val_loss: 0.3099 - val_accuracy: 0.9238\n",
            "\n",
            "Epoch 00029: val_accuracy did not improve from 0.92799\n",
            "Epoch 30/50\n",
            "345/345 [==============================] - 50s 144ms/step - loss: 0.1192 - accuracy: 0.9661 - val_loss: 0.4206 - val_accuracy: 0.9141\n",
            "\n",
            "Epoch 00030: val_accuracy did not improve from 0.92799\n",
            "Epoch 31/50\n",
            "345/345 [==============================] - 49s 143ms/step - loss: 0.1137 - accuracy: 0.9655 - val_loss: 0.4737 - val_accuracy: 0.8985\n",
            "\n",
            "Epoch 00031: val_accuracy did not improve from 0.92799\n",
            "Epoch 32/50\n",
            "345/345 [==============================] - 49s 143ms/step - loss: 0.1017 - accuracy: 0.9681 - val_loss: 0.2942 - val_accuracy: 0.9258\n",
            "\n",
            "Epoch 00032: val_accuracy did not improve from 0.92799\n",
            "Epoch 33/50\n",
            "345/345 [==============================] - 50s 146ms/step - loss: 0.1036 - accuracy: 0.9681 - val_loss: 0.2926 - val_accuracy: 0.9273\n",
            "\n",
            "Epoch 00033: val_accuracy did not improve from 0.92799\n",
            "Epoch 34/50\n",
            "345/345 [==============================] - 49s 143ms/step - loss: 0.0878 - accuracy: 0.9707 - val_loss: 0.4033 - val_accuracy: 0.8997\n",
            "\n",
            "Epoch 00034: val_accuracy did not improve from 0.92799\n",
            "Epoch 35/50\n",
            "345/345 [==============================] - 50s 145ms/step - loss: 0.1105 - accuracy: 0.9680 - val_loss: 0.2813 - val_accuracy: 0.9299\n",
            "\n",
            "Epoch 00035: val_accuracy improved from 0.92799 to 0.92989, saving model to german-traffic.h5\n",
            "Epoch 36/50\n",
            "345/345 [==============================] - 49s 143ms/step - loss: 0.1039 - accuracy: 0.9710 - val_loss: 0.3478 - val_accuracy: 0.9113\n",
            "\n",
            "Epoch 00036: val_accuracy did not improve from 0.92989\n",
            "Epoch 37/50\n",
            "345/345 [==============================] - 50s 144ms/step - loss: 0.1136 - accuracy: 0.9672 - val_loss: 0.3786 - val_accuracy: 0.9149\n",
            "\n",
            "Epoch 00037: val_accuracy did not improve from 0.92989\n",
            "Epoch 38/50\n",
            "345/345 [==============================] - 50s 144ms/step - loss: 0.0970 - accuracy: 0.9697 - val_loss: 0.3461 - val_accuracy: 0.9186\n",
            "\n",
            "Epoch 00038: val_accuracy did not improve from 0.92989\n",
            "Epoch 39/50\n",
            "345/345 [==============================] - 49s 143ms/step - loss: 0.0814 - accuracy: 0.9750 - val_loss: 0.2891 - val_accuracy: 0.9262\n",
            "\n",
            "Epoch 00039: val_accuracy did not improve from 0.92989\n",
            "Epoch 40/50\n",
            "345/345 [==============================] - 50s 145ms/step - loss: 0.1005 - accuracy: 0.9713 - val_loss: 0.2857 - val_accuracy: 0.9337\n",
            "\n",
            "Epoch 00040: val_accuracy improved from 0.92989 to 0.93370, saving model to german-traffic.h5\n",
            "Epoch 41/50\n",
            "345/345 [==============================] - 50s 146ms/step - loss: 0.0842 - accuracy: 0.9737 - val_loss: 0.2502 - val_accuracy: 0.9406\n",
            "\n",
            "Epoch 00041: val_accuracy improved from 0.93370 to 0.94063, saving model to german-traffic.h5\n",
            "Epoch 42/50\n",
            "345/345 [==============================] - 49s 144ms/step - loss: 0.0778 - accuracy: 0.9762 - val_loss: 0.3113 - val_accuracy: 0.9341\n",
            "\n",
            "Epoch 00042: val_accuracy did not improve from 0.94063\n",
            "Epoch 43/50\n",
            "345/345 [==============================] - 50s 144ms/step - loss: 0.0890 - accuracy: 0.9720 - val_loss: 0.3449 - val_accuracy: 0.9126\n",
            "\n",
            "Epoch 00043: val_accuracy did not improve from 0.94063\n",
            "Epoch 44/50\n",
            "345/345 [==============================] - 50s 145ms/step - loss: 0.0877 - accuracy: 0.9720 - val_loss: 0.3181 - val_accuracy: 0.9280\n",
            "\n",
            "Epoch 00044: val_accuracy did not improve from 0.94063\n",
            "Epoch 45/50\n",
            "345/345 [==============================] - 50s 144ms/step - loss: 0.0842 - accuracy: 0.9737 - val_loss: 0.3435 - val_accuracy: 0.9220\n",
            "\n",
            "Epoch 00045: val_accuracy did not improve from 0.94063\n",
            "Epoch 46/50\n",
            "345/345 [==============================] - 50s 144ms/step - loss: 0.0688 - accuracy: 0.9790 - val_loss: 0.3261 - val_accuracy: 0.9239\n",
            "\n",
            "Epoch 00046: val_accuracy did not improve from 0.94063\n",
            "Epoch 47/50\n",
            "345/345 [==============================] - 50s 146ms/step - loss: 0.0843 - accuracy: 0.9753 - val_loss: 0.2545 - val_accuracy: 0.9412\n",
            "\n",
            "Epoch 00047: val_accuracy improved from 0.94063 to 0.94117, saving model to german-traffic.h5\n",
            "Epoch 48/50\n",
            "345/345 [==============================] - 50s 145ms/step - loss: 0.0911 - accuracy: 0.9744 - val_loss: 0.3420 - val_accuracy: 0.9234\n",
            "\n",
            "Epoch 00048: val_accuracy did not improve from 0.94117\n",
            "Epoch 49/50\n",
            "345/345 [==============================] - 49s 143ms/step - loss: 0.0845 - accuracy: 0.9763 - val_loss: 0.3405 - val_accuracy: 0.9254\n",
            "\n",
            "Epoch 00049: val_accuracy did not improve from 0.94117\n",
            "Epoch 50/50\n",
            "345/345 [==============================] - 50s 145ms/step - loss: 0.0796 - accuracy: 0.9751 - val_loss: 0.2892 - val_accuracy: 0.9361\n",
            "\n",
            "Epoch 00050: val_accuracy did not improve from 0.94117\n"
          ],
          "name": "stdout"
        }
      ]
    },
    {
      "cell_type": "code",
      "metadata": {
        "id": "E_0myz797pWs"
      },
      "source": [
        ""
      ],
      "execution_count": null,
      "outputs": []
    },
    {
      "cell_type": "markdown",
      "metadata": {
        "id": "diNbnH_dKO8J"
      },
      "source": [
        "### Draw plots (3 Marks)\n",
        "\n",
        "\n",
        "- Plot training accuracy and validation accuracy with respect to epochs\n",
        "- Plot training loss and validation loss with respect to epochs"
      ]
    },
    {
      "cell_type": "code",
      "metadata": {
        "id": "8uoIPTssDofN",
        "colab": {
          "base_uri": "https://localhost:8080/",
          "height": 591
        },
        "outputId": "d9915f84-df10-4665-da96-5e8d42d81dae"
      },
      "source": [
        "plt.figure(0)\r\n",
        "plt.plot(history.history['accuracy'], label='training accuracy')\r\n",
        "plt.plot(history.history['val_accuracy'], label='val accuracy')\r\n",
        "plt.title('Accuracy')\r\n",
        "plt.xlabel('epochs')\r\n",
        "plt.ylabel('accuracy')\r\n",
        "plt.legend()\r\n",
        "\r\n",
        "plt.figure(1)\r\n",
        "plt.plot(history.history['loss'], label='training loss')\r\n",
        "plt.plot(history.history['val_loss'], label='val loss')\r\n",
        "plt.title('Loss')\r\n",
        "plt.xlabel('epochs')\r\n",
        "plt.ylabel('loss')\r\n",
        "plt.legend()\r\n",
        "\r\n"
      ],
      "execution_count": 60,
      "outputs": [
        {
          "output_type": "execute_result",
          "data": {
            "text/plain": [
              "<matplotlib.legend.Legend at 0x7fac849e4940>"
            ]
          },
          "metadata": {
            "tags": []
          },
          "execution_count": 60
        },
        {
          "output_type": "display_data",
          "data": {
            "image/png": "[encoded data removed]",
            "text/plain": [
              "<Figure size 432x288 with 1 Axes>"
            ]
          },
          "metadata": {
            "tags": [],
            "needs_background": "light"
          }
        },
        {
          "output_type": "display_data",
          "data": {
            "image/png": "[encoded data removed]",
            "text/plain": [
              "<Figure size 432x288 with 1 Axes>"
            ]
          },
          "metadata": {
            "tags": [],
            "needs_background": "light"
          }
        }
      ]
    },
    {
      "cell_type": "code",
      "metadata": {
        "id": "AhdPEW25eQKM"
      },
      "source": [
        ""
      ],
      "execution_count": null,
      "outputs": []
    }
  ]
}